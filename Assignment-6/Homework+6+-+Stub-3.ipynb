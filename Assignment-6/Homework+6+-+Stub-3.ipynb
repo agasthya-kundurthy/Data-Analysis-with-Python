{
 "cells": [
  {
   "cell_type": "markdown",
   "metadata": {},
   "source": [
    "# Homework 6 - Women and children first?!"
   ]
  },
  {
   "cell_type": "markdown",
   "metadata": {},
   "source": [
    "The objective of this homework is to practice simple decision trees. To successfully complete this homework, you may use any resources available to you. \n",
    "\n",
    "Get the `titanic3.csv` data (Source: [Link](http://biostat.mc.vanderbilt.edu/wiki/pub/Main/DataSets/titanic3info.txt)).\n",
    "\n",
    "1. Analyze the data using pandas.\n",
    "    * Create a column that specifies whether the person is a child (age <= 10)\n",
    "    * Group the data by `sex`, `child`, `pclass` and interpret the survival rate.\n",
    "2. Develop a decision tree with depth of 1.\n",
    "    * Preprocess the `sex` column using LabelEncoder\n",
    "    * Develop the decision tree\n",
    "    * Visually reproduce the decision tree using a seaborn barchart.\n",
    "    * Use the t-test from scipy.stats to statistically reproduce the decision.\n",
    "    * Interpret the decision tree.\n",
    "3. Develop a decision tree with depth of 2.\n",
    "    * Develop the decision tree\n",
    "    * Visually reproduce the decision tree using seaborn barcharts (left side and right side)\n",
    "    * Use the ranksums test from scipy.stats to statistically reproduce the decisions.\n",
    "    * Interpret the decision tree. \n",
    "    \n",
    "Hints:\n",
    "* Explain what you are doing.\n",
    "* Use references."
   ]
  },
  {
   "cell_type": "code",
   "execution_count": 2,
   "metadata": {
    "ExecuteTime": {
     "end_time": "2018-02-13T22:26:03.868907Z",
     "start_time": "2018-02-13T22:26:03.860430Z"
    },
    "collapsed": true
   },
   "outputs": [],
   "source": [
    "import numpy as np\n",
    "import pandas as pd\n",
    "import seaborn as sns"
   ]
  },
  {
   "cell_type": "code",
   "execution_count": 3,
   "metadata": {
    "ExecuteTime": {
     "end_time": "2018-02-13T22:26:04.100728Z",
     "start_time": "2018-02-13T22:26:04.093183Z"
    },
    "collapsed": true
   },
   "outputs": [],
   "source": [
    "import sklearn as sk\n",
    "import sklearn.tree as tree\n",
    "import sklearn.preprocessing as pp\n",
    "import sklearn.metrics as sm"
   ]
  },
  {
   "cell_type": "code",
   "execution_count": 4,
   "metadata": {
    "ExecuteTime": {
     "end_time": "2018-02-13T22:26:04.311512Z",
     "start_time": "2018-02-13T22:26:04.302391Z"
    },
    "collapsed": true
   },
   "outputs": [],
   "source": [
    "from IPython.core.interactiveshell import InteractiveShell\n",
    "InteractiveShell.ast_node_interactivity = \"all\""
   ]
  },
  {
   "cell_type": "code",
   "execution_count": 5,
   "metadata": {
    "ExecuteTime": {
     "end_time": "2018-02-13T22:26:04.602365Z",
     "start_time": "2018-02-13T22:26:04.584842Z"
    },
    "collapsed": true
   },
   "outputs": [],
   "source": [
    "%matplotlib inline"
   ]
  },
  {
   "cell_type": "code",
   "execution_count": 6,
   "metadata": {
    "ExecuteTime": {
     "end_time": "2018-02-13T22:26:04.848983Z",
     "start_time": "2018-02-13T22:26:04.824329Z"
    },
    "collapsed": true
   },
   "outputs": [],
   "source": [
    "tc = pd.read_csv(\"https://raw.githubusercontent.com/mschermann/msis2802winter2018homework/master/\\\n",
    "titanic3.csv\")"
   ]
  },
  {
   "cell_type": "code",
   "execution_count": 7,
   "metadata": {
    "ExecuteTime": {
     "end_time": "2018-02-13T22:26:05.603852Z",
     "start_time": "2018-02-13T22:26:05.592562Z"
    }
   },
   "outputs": [
    {
     "data": {
      "text/plain": [
       "Index(['pclass', 'survived', 'name', 'sex', 'age', 'sibsp', 'parch', 'ticket',\n",
       "       'fare', 'cabin', 'embarked', 'boat', 'body', 'home.dest'],\n",
       "      dtype='object')"
      ]
     },
     "execution_count": 7,
     "metadata": {},
     "output_type": "execute_result"
    }
   ],
   "source": [
    "tc.columns"
   ]
  },
  {
   "cell_type": "markdown",
   "metadata": {},
   "source": [
    "## Description of the dataset\n",
    "\n",
    "Each row is a passenger on the Titanic. The columns report attributes for the passengers:\n",
    "\n",
    "| Column | Description | Relevant for this homework|\n",
    "|--------|-------------|--------|\n",
    "|`survived`|1 = survived, 0 = died | **X**|\n",
    "|`pclass`| 1 = first class, 2 = second class, 3 = third class |**X**|\n",
    "|`name`| Name of the passenger| |\n",
    "|`sex`| male or female|**X**|\n",
    "|`age`| age in years|**X**|\n",
    "|`sibsp`| The number of siblings or spouses that are also traveling on the Titanic| |\n",
    "|`parch`| The number of parents or childen that are also traveling on the Titanic| |\n",
    "|`ticket`|The ticket number| |\n",
    "|`fare`| The ticket price | |\n",
    "|`cabin`| The cabin number | |\n",
    "|`embarked`| The starting city | |\n",
    "|`boat`| The emergency boat number | |\n",
    "|`body`| The identification number of the body | |\n",
    "|`home.dest`| The destination of the passenger | |"
   ]
  },
  {
   "cell_type": "markdown",
   "metadata": {
    "ExecuteTime": {
     "end_time": "2018-02-13T19:56:42.551866Z",
     "start_time": "2018-02-13T19:56:42.546282Z"
    }
   },
   "source": [
    "## Women and children first?"
   ]
  },
  {
   "cell_type": "markdown",
   "metadata": {
    "ExecuteTime": {
     "end_time": "2018-02-13T21:57:06.601910Z",
     "start_time": "2018-02-13T21:57:06.595430Z"
    }
   },
   "source": [
    "### Create a column that specifies whether the person is a child (10 years or younger)\n"
   ]
  },
  {
   "cell_type": "code",
   "execution_count": 9,
   "metadata": {
    "collapsed": true
   },
   "outputs": [],
   "source": [
    "tc1 = tc.copy()"
   ]
  },
  {
   "cell_type": "code",
   "execution_count": 10,
   "metadata": {
    "collapsed": true
   },
   "outputs": [],
   "source": [
    "tc1['Child'] = np.where(tc1['age']>=10, 0, 1)"
   ]
  },
  {
   "cell_type": "markdown",
   "metadata": {},
   "source": [
    "Here, to Analyse the data better, a new column 'Child' is created and a binary classification is done based on the age of the person, if the person is older than 10, then a value '0' is set showing the person is not a child. If the person is younger than 10, a value of '1' is set. "
   ]
  },
  {
   "cell_type": "markdown",
   "metadata": {},
   "source": [
    "Reference : https://chrisalbon.com/python/data_wrangling/pandas_create_column_using_conditional/"
   ]
  },
  {
   "cell_type": "markdown",
   "metadata": {},
   "source": [
    "### Group the data by `sex`, `child`, `pclass` and interpret the survival rate."
   ]
  },
  {
   "cell_type": "code",
   "execution_count": 33,
   "metadata": {},
   "outputs": [
    {
     "data": {
      "text/html": [
       "<div>\n",
       "<style scoped>\n",
       "    .dataframe tbody tr th:only-of-type {\n",
       "        vertical-align: middle;\n",
       "    }\n",
       "\n",
       "    .dataframe tbody tr th {\n",
       "        vertical-align: top;\n",
       "    }\n",
       "\n",
       "    .dataframe thead th {\n",
       "        text-align: right;\n",
       "    }\n",
       "</style>\n",
       "<table border=\"1\" class=\"dataframe\">\n",
       "  <thead>\n",
       "    <tr style=\"text-align: right;\">\n",
       "      <th></th>\n",
       "      <th></th>\n",
       "      <th></th>\n",
       "      <th>mean</th>\n",
       "      <th>sum</th>\n",
       "      <th>count</th>\n",
       "    </tr>\n",
       "    <tr>\n",
       "      <th>sex</th>\n",
       "      <th>Child</th>\n",
       "      <th>pclass</th>\n",
       "      <th></th>\n",
       "      <th></th>\n",
       "      <th></th>\n",
       "    </tr>\n",
       "  </thead>\n",
       "  <tbody>\n",
       "    <tr>\n",
       "      <th rowspan=\"6\" valign=\"top\">female</th>\n",
       "      <th rowspan=\"3\" valign=\"top\">0</th>\n",
       "      <th>1.0</th>\n",
       "      <td>0.969697</td>\n",
       "      <td>128.0</td>\n",
       "      <td>132</td>\n",
       "    </tr>\n",
       "    <tr>\n",
       "      <th>2.0</th>\n",
       "      <td>0.880435</td>\n",
       "      <td>81.0</td>\n",
       "      <td>92</td>\n",
       "    </tr>\n",
       "    <tr>\n",
       "      <th>3.0</th>\n",
       "      <td>0.464000</td>\n",
       "      <td>58.0</td>\n",
       "      <td>125</td>\n",
       "    </tr>\n",
       "    <tr>\n",
       "      <th rowspan=\"3\" valign=\"top\">1</th>\n",
       "      <th>1.0</th>\n",
       "      <td>0.916667</td>\n",
       "      <td>11.0</td>\n",
       "      <td>12</td>\n",
       "    </tr>\n",
       "    <tr>\n",
       "      <th>2.0</th>\n",
       "      <td>0.928571</td>\n",
       "      <td>13.0</td>\n",
       "      <td>14</td>\n",
       "    </tr>\n",
       "    <tr>\n",
       "      <th>3.0</th>\n",
       "      <td>0.527473</td>\n",
       "      <td>48.0</td>\n",
       "      <td>91</td>\n",
       "    </tr>\n",
       "    <tr>\n",
       "      <th rowspan=\"6\" valign=\"top\">male</th>\n",
       "      <th rowspan=\"3\" valign=\"top\">0</th>\n",
       "      <th>1.0</th>\n",
       "      <td>0.337838</td>\n",
       "      <td>50.0</td>\n",
       "      <td>148</td>\n",
       "    </tr>\n",
       "    <tr>\n",
       "      <th>2.0</th>\n",
       "      <td>0.081633</td>\n",
       "      <td>12.0</td>\n",
       "      <td>147</td>\n",
       "    </tr>\n",
       "    <tr>\n",
       "      <th>3.0</th>\n",
       "      <td>0.150000</td>\n",
       "      <td>48.0</td>\n",
       "      <td>320</td>\n",
       "    </tr>\n",
       "    <tr>\n",
       "      <th rowspan=\"3\" valign=\"top\">1</th>\n",
       "      <th>1.0</th>\n",
       "      <td>0.354839</td>\n",
       "      <td>11.0</td>\n",
       "      <td>31</td>\n",
       "    </tr>\n",
       "    <tr>\n",
       "      <th>2.0</th>\n",
       "      <td>0.541667</td>\n",
       "      <td>13.0</td>\n",
       "      <td>24</td>\n",
       "    </tr>\n",
       "    <tr>\n",
       "      <th>3.0</th>\n",
       "      <td>0.156069</td>\n",
       "      <td>27.0</td>\n",
       "      <td>173</td>\n",
       "    </tr>\n",
       "  </tbody>\n",
       "</table>\n",
       "</div>"
      ],
      "text/plain": [
       "                         mean    sum  count\n",
       "sex    Child pclass                        \n",
       "female 0     1.0     0.969697  128.0    132\n",
       "             2.0     0.880435   81.0     92\n",
       "             3.0     0.464000   58.0    125\n",
       "       1     1.0     0.916667   11.0     12\n",
       "             2.0     0.928571   13.0     14\n",
       "             3.0     0.527473   48.0     91\n",
       "male   0     1.0     0.337838   50.0    148\n",
       "             2.0     0.081633   12.0    147\n",
       "             3.0     0.150000   48.0    320\n",
       "       1     1.0     0.354839   11.0     31\n",
       "             2.0     0.541667   13.0     24\n",
       "             3.0     0.156069   27.0    173"
      ]
     },
     "execution_count": 33,
     "metadata": {},
     "output_type": "execute_result"
    }
   ],
   "source": [
    "tc1.groupby(['sex','Child','pclass'])['survived'].agg(['mean','sum','count'])"
   ]
  },
  {
   "cell_type": "code",
   "execution_count": 128,
   "metadata": {
    "collapsed": true
   },
   "outputs": [],
   "source": [
    "sampleDF = tc1.copy()"
   ]
  },
  {
   "cell_type": "code",
   "execution_count": 129,
   "metadata": {
    "collapsed": true
   },
   "outputs": [],
   "source": [
    "sampleDF = sampleDF.groupby(['sex','Child','pclass'])['survived'].agg(['mean','sum','count'])"
   ]
  },
  {
   "cell_type": "markdown",
   "metadata": {},
   "source": [
    "Now, a person is grouped by their 'sex', if he/she is a 'child' and by the class of travel in the 'Titanic'. The agg function is used to determine the total number of people in each grouped category and a"
   ]
  },
  {
   "cell_type": "code",
   "execution_count": 19,
   "metadata": {
    "collapsed": true
   },
   "outputs": [],
   "source": [
    "sampleDF['Ratio of Survival'] = sampleDF['sum']/sampleDF['count']"
   ]
  },
  {
   "cell_type": "code",
   "execution_count": 23,
   "metadata": {
    "collapsed": true
   },
   "outputs": [],
   "source": [
    "sampleDF['Standardized Ratio'] = sampleDF['Ratio of Survival'].mean() - sampleDF['Ratio of Survival']"
   ]
  },
  {
   "cell_type": "code",
   "execution_count": 32,
   "metadata": {},
   "outputs": [
    {
     "data": {
      "image/png": "[encoded data removed]",
      "text/plain": [
       "<matplotlib.figure.Figure at 0x113f12f98>"
      ]
     },
     "metadata": {},
     "output_type": "display_data"
    }
   ],
   "source": [
    "import matplotlib.pyplot as plt\n",
    "sampleDF['Standardized Ratio'].plot.bar()\n",
    "plt.xlabel('Type of Passenger');\n",
    "plt.ylabel('Standardized Ratio');\n",
    "plt.title('Survival Rate of Titanic Passengers');"
   ]
  },
  {
   "cell_type": "markdown",
   "metadata": {},
   "source": [
    "The standardized survival ratio of the passengers is very important aspect of the Analysis of the Data. The general perception is that Women and Children(irrespective of their Sex) are given first preference during a crisis. This is majorly due to the fact that men are believed to have higher physical strength and resistance during a crisis.\n",
    "\n",
    "But from the Analysis, we can see clearly that Children who are male were not so lucky when trying to survive the 'Titanic' drowning. It can be seen from the above figure that the number of male children who survived the incident is too low when compared to their female counter parts. The only execptions being a male child in the second class had a better survival rate and a female child in the third class on the 'Titanic'.\n",
    "\n",
    "This might have been due to there being more male children who were very young and couldn't be carried during the ship wreck."
   ]
  },
  {
   "cell_type": "markdown",
   "metadata": {},
   "source": [
    " \n"
   ]
  },
  {
   "cell_type": "markdown",
   "metadata": {
    "ExecuteTime": {
     "end_time": "2018-02-13T21:58:44.757490Z",
     "start_time": "2018-02-13T21:58:44.747773Z"
    }
   },
   "source": [
    "## Decision Tree with depth of 1"
   ]
  },
  {
   "cell_type": "markdown",
   "metadata": {},
   "source": [
    "### Restrict your analysis on the relevant columns (check table above)."
   ]
  },
  {
   "cell_type": "code",
   "execution_count": 447,
   "metadata": {
    "collapsed": true
   },
   "outputs": [],
   "source": [
    "survival = tc.copy()"
   ]
  },
  {
   "cell_type": "code",
   "execution_count": 449,
   "metadata": {
    "collapsed": true
   },
   "outputs": [],
   "source": [
    "X = survival.drop(['name','sibsp','parch','ticket','fare','cabin','embarked','boat','body','home.dest'], axis=1)"
   ]
  },
  {
   "cell_type": "markdown",
   "metadata": {},
   "source": [
    "### Preprocess the `sex` column"
   ]
  },
  {
   "cell_type": "code",
   "execution_count": 450,
   "metadata": {
    "collapsed": true
   },
   "outputs": [],
   "source": [
    "le = pp.LabelEncoder()\n",
    "X['sex'] = le.fit_transform(X['sex'].astype(str))"
   ]
  },
  {
   "cell_type": "code",
   "execution_count": 451,
   "metadata": {},
   "outputs": [],
   "source": [
    "X.dropna(inplace=True)"
   ]
  },
  {
   "cell_type": "code",
   "execution_count": 452,
   "metadata": {},
   "outputs": [],
   "source": [
    "y = X['survived']"
   ]
  },
  {
   "cell_type": "code",
   "execution_count": 454,
   "metadata": {
    "collapsed": true
   },
   "outputs": [],
   "source": [
    "X = X.drop(['survived'],axis=1)"
   ]
  },
  {
   "cell_type": "code",
   "execution_count": 455,
   "metadata": {},
   "outputs": [],
   "source": [
    "import sklearn.model_selection as ms\n",
    "X_train,X_test,y_train,y_test = ms.train_test_split(X,y,random_state=1)"
   ]
  },
  {
   "cell_type": "code",
   "execution_count": 456,
   "metadata": {},
   "outputs": [],
   "source": [
    "from sklearn.tree import DecisionTreeClassifier\n",
    "dtc = DecisionTreeClassifier(max_depth=1).fit(X_train,y_train)"
   ]
  },
  {
   "cell_type": "code",
   "execution_count": 457,
   "metadata": {},
   "outputs": [
    {
     "data": {
      "image/svg+xml": [
       "<?xml version=\"1.0\" encoding=\"UTF-8\" standalone=\"no\"?>\n",
       "<!DOCTYPE svg PUBLIC \"-//W3C//DTD SVG 1.1//EN\"\n",
       " \"http://www.w3.org/Graphics/SVG/1.1/DTD/svg11.dtd\">\n",
       "<!-- Generated by graphviz version 2.40.1 (20161225.0304)\n",
       " -->\n",
       "<!-- Title: Tree Pages: 1 -->\n",
       "<svg width=\"294pt\" height=\"211pt\"\n",
       " viewBox=\"0.00 0.00 293.54 211.20\" xmlns=\"http://www.w3.org/2000/svg\" xmlns:xlink=\"http://www.w3.org/1999/xlink\">\n",
       "<g id=\"graph0\" class=\"graph\" transform=\"scale(1 1) rotate(0) translate(4 207.2)\">\n",
       "<title>Tree</title>\n",
       "<polygon fill=\"#ffffff\" stroke=\"transparent\" points=\"-4,4 -4,-207.2 289.5356,-207.2 289.5356,4 -4,4\"/>\n",
       "<!-- 0 -->\n",
       "<g id=\"node1\" class=\"node\">\n",
       "<title>0</title>\n",
       "<polygon fill=\"#e58139\" fill-opacity=\"0.294118\" stroke=\"#000000\" points=\"209.3042,-203.2 69.2314,-203.2 69.2314,-111.2 209.3042,-111.2 209.3042,-203.2\"/>\n",
       "<text text-anchor=\"start\" x=\"113.0199\" y=\"-186.6\" font-family=\"Times,serif\" font-size=\"14.00\" fill=\"#000000\">sex ≤ 0.5</text>\n",
       "<text text-anchor=\"start\" x=\"105.1799\" y=\"-169.8\" font-family=\"Times,serif\" font-size=\"14.00\" fill=\"#000000\">gini = 0.485</text>\n",
       "<text text-anchor=\"start\" x=\"87.6904\" y=\"-153\" font-family=\"Times,serif\" font-size=\"14.00\" fill=\"#000000\">samples = 100.0%</text>\n",
       "<text text-anchor=\"start\" x=\"77\" y=\"-136.2\" font-family=\"Times,serif\" font-size=\"14.00\" fill=\"#000000\">value = [0.587, 0.413]</text>\n",
       "<text text-anchor=\"start\" x=\"104.6101\" y=\"-119.4\" font-family=\"Times,serif\" font-size=\"14.00\" fill=\"#000000\">class = Died</text>\n",
       "</g>\n",
       "<!-- 1 -->\n",
       "<g id=\"node2\" class=\"node\">\n",
       "<title>1</title>\n",
       "<polygon fill=\"#399de5\" fill-opacity=\"0.666667\" stroke=\"#000000\" points=\"126.3042,-75.3003 .2314,-75.3003 .2314,.1003 126.3042,.1003 126.3042,-75.3003\"/>\n",
       "<text text-anchor=\"start\" x=\"29.1799\" y=\"-58.6\" font-family=\"Times,serif\" font-size=\"14.00\" fill=\"#000000\">gini = 0.375</text>\n",
       "<text text-anchor=\"start\" x=\"15.1904\" y=\"-41.8\" font-family=\"Times,serif\" font-size=\"14.00\" fill=\"#000000\">samples = 36.2%</text>\n",
       "<text text-anchor=\"start\" x=\"8\" y=\"-25\" font-family=\"Times,serif\" font-size=\"14.00\" fill=\"#000000\">value = [0.25, 0.75]</text>\n",
       "<text text-anchor=\"start\" x=\"18.1108\" y=\"-8.2\" font-family=\"Times,serif\" font-size=\"14.00\" fill=\"#000000\">class = survived</text>\n",
       "</g>\n",
       "<!-- 0&#45;&gt;1 -->\n",
       "<g id=\"edge1\" class=\"edge\">\n",
       "<title>0&#45;&gt;1</title>\n",
       "<path fill=\"none\" stroke=\"#000000\" d=\"M109.8842,-110.9595C104.2452,-102.0855 98.339,-92.791 92.6985,-83.9147\"/>\n",
       "<polygon fill=\"#000000\" stroke=\"#000000\" points=\"95.4837,-81.7718 87.1664,-75.2088 89.5757,-85.5261 95.4837,-81.7718\"/>\n",
       "<text text-anchor=\"middle\" x=\"81.7273\" y=\"-95.41\" font-family=\"Times,serif\" font-size=\"14.00\" fill=\"#000000\">True</text>\n",
       "</g>\n",
       "<!-- 2 -->\n",
       "<g id=\"node3\" class=\"node\">\n",
       "<title>2</title>\n",
       "<polygon fill=\"#e58139\" fill-opacity=\"0.713725\" stroke=\"#000000\" points=\"285.3042,-75.3003 145.2314,-75.3003 145.2314,.1003 285.3042,.1003 285.3042,-75.3003\"/>\n",
       "<text text-anchor=\"start\" x=\"181.1799\" y=\"-58.6\" font-family=\"Times,serif\" font-size=\"14.00\" fill=\"#000000\">gini = 0.345</text>\n",
       "<text text-anchor=\"start\" x=\"167.1904\" y=\"-41.8\" font-family=\"Times,serif\" font-size=\"14.00\" fill=\"#000000\">samples = 63.8%</text>\n",
       "<text text-anchor=\"start\" x=\"153\" y=\"-25\" font-family=\"Times,serif\" font-size=\"14.00\" fill=\"#000000\">value = [0.778, 0.222]</text>\n",
       "<text text-anchor=\"start\" x=\"180.6101\" y=\"-8.2\" font-family=\"Times,serif\" font-size=\"14.00\" fill=\"#000000\">class = Died</text>\n",
       "</g>\n",
       "<!-- 0&#45;&gt;2 -->\n",
       "<g id=\"edge2\" class=\"edge\">\n",
       "<title>0&#45;&gt;2</title>\n",
       "<path fill=\"none\" stroke=\"#000000\" d=\"M168.6514,-110.9595C174.2904,-102.0855 180.1966,-92.791 185.8371,-83.9147\"/>\n",
       "<polygon fill=\"#000000\" stroke=\"#000000\" points=\"188.9599,-85.5261 191.3692,-75.2088 183.0519,-81.7718 188.9599,-85.5261\"/>\n",
       "<text text-anchor=\"middle\" x=\"196.8083\" y=\"-95.41\" font-family=\"Times,serif\" font-size=\"14.00\" fill=\"#000000\">False</text>\n",
       "</g>\n",
       "</g>\n",
       "</svg>\n"
      ],
      "text/plain": [
       "<graphviz.files.Source at 0x1a1edf0a20>"
      ]
     },
     "execution_count": 457,
     "metadata": {},
     "output_type": "execute_result"
    }
   ],
   "source": [
    "import graphviz\n",
    "dot_data = sk.tree.export_graphviz(dtc, out_file=None, \n",
    "                         feature_names=list(X.columns), \n",
    "                         class_names = ['survived' if i == 1 else 'Died' for i in dtc.classes_] ,\n",
    "                         filled=True,  \n",
    "                         special_characters=True, \n",
    "                         proportion=True,\n",
    "                        )  \n",
    "graph = graphviz.Source(dot_data)  \n",
    "graph  "
   ]
  },
  {
   "cell_type": "code",
   "execution_count": 525,
   "metadata": {},
   "outputs": [
    {
     "name": "stderr",
     "output_type": "stream",
     "text": [
      "/Users/agasthya/anaconda3/lib/python3.6/site-packages/seaborn/categorical.py:1460: FutureWarning: remove_na is deprecated and is a private function. Do not use.\n",
      "  stat_data = remove_na(group_data)\n"
     ]
    },
    {
     "data": {
      "image/png": "[encoded data removed]",
      "text/plain": [
       "<matplotlib.figure.Figure at 0x1a21d54438>"
      ]
     },
     "metadata": {},
     "output_type": "display_data"
    }
   ],
   "source": [
    "sns.barplot(x='sex',y='survived',data=survival);"
   ]
  },
  {
   "cell_type": "markdown",
   "metadata": {
    "ExecuteTime": {
     "end_time": "2018-02-13T22:05:16.232383Z",
     "start_time": "2018-02-13T22:05:16.227762Z"
    }
   },
   "source": [
    "### Use the t-test from `scipy.stats` to statistically reproduce the decision."
   ]
  },
  {
   "cell_type": "code",
   "execution_count": 272,
   "metadata": {
    "collapsed": true
   },
   "outputs": [],
   "source": [
    "from scipy.stats import ttest_ind"
   ]
  },
  {
   "cell_type": "code",
   "execution_count": 539,
   "metadata": {},
   "outputs": [],
   "source": [
    "t, p = ttest_ind(survival[survival['sex'] == 'female']['survived'], y, equal_var=False)"
   ]
  },
  {
   "cell_type": "code",
   "execution_count": 540,
   "metadata": {},
   "outputs": [
    {
     "data": {
      "text/plain": [
       "(12.449895070851383, 3.9185778365145616e-33)"
      ]
     },
     "execution_count": 540,
     "metadata": {},
     "output_type": "execute_result"
    }
   ],
   "source": [
    "t,p"
   ]
  },
  {
   "cell_type": "code",
   "execution_count": 542,
   "metadata": {
    "collapsed": true
   },
   "outputs": [],
   "source": [
    "t1, p1 = ttest_ind(survival[survival['sex'] == 'male']['survived'], y, equal_var=False)"
   ]
  },
  {
   "cell_type": "code",
   "execution_count": 543,
   "metadata": {},
   "outputs": [
    {
     "data": {
      "text/plain": [
       "(-10.667909648973822, 7.7101586863608186e-26)"
      ]
     },
     "execution_count": 543,
     "metadata": {},
     "output_type": "execute_result"
    }
   ],
   "source": [
    "t1,p1"
   ]
  },
  {
   "cell_type": "markdown",
   "metadata": {},
   "source": [
    "Reference : https://docs.scipy.org/doc/scipy/reference/generated/scipy.stats.ttest_ind.html"
   ]
  },
  {
   "cell_type": "markdown",
   "metadata": {},
   "source": [
    "## Develop a decision tree with depth of 2"
   ]
  },
  {
   "cell_type": "markdown",
   "metadata": {},
   "source": [
    "<b>Build</b> and <b>show</b> a decision tree of <b>depth = 2</b> to find the differences between those who survived and those who didn't. Your tree should have four leaves."
   ]
  },
  {
   "cell_type": "code",
   "execution_count": 463,
   "metadata": {},
   "outputs": [],
   "source": [
    "dtc2 = DecisionTreeClassifier(max_depth=2).fit(X_train,y_train)"
   ]
  },
  {
   "cell_type": "markdown",
   "metadata": {},
   "source": [
    "You need to adapt the `XXX` in the following code to visualize the decision tree."
   ]
  },
  {
   "cell_type": "code",
   "execution_count": 464,
   "metadata": {
    "ExecuteTime": {
     "end_time": "2018-02-13T22:26:10.584737Z",
     "start_time": "2018-02-13T22:26:10.539010Z"
    }
   },
   "outputs": [
    {
     "data": {
      "image/svg+xml": [
       "<?xml version=\"1.0\" encoding=\"UTF-8\" standalone=\"no\"?>\n",
       "<!DOCTYPE svg PUBLIC \"-//W3C//DTD SVG 1.1//EN\"\n",
       " \"http://www.w3.org/Graphics/SVG/1.1/DTD/svg11.dtd\">\n",
       "<!-- Generated by graphviz version 2.40.1 (20161225.0304)\n",
       " -->\n",
       "<!-- Title: Tree Pages: 1 -->\n",
       "<svg width=\"650pt\" height=\"339pt\"\n",
       " viewBox=\"0.00 0.00 650.23 339.20\" xmlns=\"http://www.w3.org/2000/svg\" xmlns:xlink=\"http://www.w3.org/1999/xlink\">\n",
       "<g id=\"graph0\" class=\"graph\" transform=\"scale(1 1) rotate(0) translate(4 335.2)\">\n",
       "<title>Tree</title>\n",
       "<polygon fill=\"#ffffff\" stroke=\"transparent\" points=\"-4,4 -4,-335.2 646.232,-335.2 646.232,4 -4,4\"/>\n",
       "<!-- 0 -->\n",
       "<g id=\"node1\" class=\"node\">\n",
       "<title>0</title>\n",
       "<path fill=\"#e58139\" fill-opacity=\"0.294118\" stroke=\"#000000\" d=\"M376.2393,-331.2C376.2393,-331.2 249.2101,-331.2 249.2101,-331.2 243.2101,-331.2 237.2101,-325.2 237.2101,-319.2 237.2101,-319.2 237.2101,-251.2 237.2101,-251.2 237.2101,-245.2 243.2101,-239.2 249.2101,-239.2 249.2101,-239.2 376.2393,-239.2 376.2393,-239.2 382.2393,-239.2 388.2393,-245.2 388.2393,-251.2 388.2393,-251.2 388.2393,-319.2 388.2393,-319.2 388.2393,-325.2 382.2393,-331.2 376.2393,-331.2\"/>\n",
       "<text text-anchor=\"start\" x=\"283.156\" y=\"-314.6\" font-family=\"Helvetica,sans-Serif\" font-size=\"14.00\" fill=\"#000000\">sex ≤ 0.5</text>\n",
       "<text text-anchor=\"start\" x=\"276.3471\" y=\"-297.8\" font-family=\"Helvetica,sans-Serif\" font-size=\"14.00\" fill=\"#000000\">gini = 0.485</text>\n",
       "<text text-anchor=\"start\" x=\"254.9565\" y=\"-281\" font-family=\"Helvetica,sans-Serif\" font-size=\"14.00\" fill=\"#000000\">samples = 100.0%</text>\n",
       "<text text-anchor=\"start\" x=\"245.2174\" y=\"-264.2\" font-family=\"Helvetica,sans-Serif\" font-size=\"14.00\" fill=\"#000000\">value = [0.587, 0.413]</text>\n",
       "<text text-anchor=\"start\" x=\"274.413\" y=\"-247.4\" font-family=\"Helvetica,sans-Serif\" font-size=\"14.00\" fill=\"#000000\">class = Died</text>\n",
       "</g>\n",
       "<!-- 1 -->\n",
       "<g id=\"node2\" class=\"node\">\n",
       "<title>1</title>\n",
       "<path fill=\"#399de5\" fill-opacity=\"0.666667\" stroke=\"#000000\" d=\"M284.6748,-203.2C284.6748,-203.2 172.7746,-203.2 172.7746,-203.2 166.7746,-203.2 160.7746,-197.2 160.7746,-191.2 160.7746,-191.2 160.7746,-123.2 160.7746,-123.2 160.7746,-117.2 166.7746,-111.2 172.7746,-111.2 172.7746,-111.2 284.6748,-111.2 284.6748,-111.2 290.6748,-111.2 296.6748,-117.2 296.6748,-123.2 296.6748,-123.2 296.6748,-191.2 296.6748,-191.2 296.6748,-197.2 290.6748,-203.2 284.6748,-203.2\"/>\n",
       "<text text-anchor=\"start\" x=\"190.2114\" y=\"-186.6\" font-family=\"Helvetica,sans-Serif\" font-size=\"14.00\" fill=\"#000000\">pclass ≤ 2.5</text>\n",
       "<text text-anchor=\"start\" x=\"192.3471\" y=\"-169.8\" font-family=\"Helvetica,sans-Serif\" font-size=\"14.00\" fill=\"#000000\">gini = 0.375</text>\n",
       "<text text-anchor=\"start\" x=\"174.8478\" y=\"-153\" font-family=\"Helvetica,sans-Serif\" font-size=\"14.00\" fill=\"#000000\">samples = 36.2%</text>\n",
       "<text text-anchor=\"start\" x=\"169\" y=\"-136.2\" font-family=\"Helvetica,sans-Serif\" font-size=\"14.00\" fill=\"#000000\">value = [0.25, 0.75]</text>\n",
       "<text text-anchor=\"start\" x=\"178.7447\" y=\"-119.4\" font-family=\"Helvetica,sans-Serif\" font-size=\"14.00\" fill=\"#000000\">class = survived</text>\n",
       "</g>\n",
       "<!-- 0&#45;&gt;1 -->\n",
       "<g id=\"edge1\" class=\"edge\">\n",
       "<title>0&#45;&gt;1</title>\n",
       "<path fill=\"none\" stroke=\"#000000\" d=\"M282.3988,-238.9891C276.6296,-230.1979 270.5411,-220.9202 264.6182,-211.8949\"/>\n",
       "<polygon fill=\"#000000\" stroke=\"#000000\" points=\"267.4189,-209.7833 259.0061,-203.3431 261.5665,-213.6239 267.4189,-209.7833\"/>\n",
       "<text text-anchor=\"middle\" x=\"253.9257\" y=\"-223.6215\" font-family=\"Helvetica,sans-Serif\" font-size=\"14.00\" fill=\"#000000\">True</text>\n",
       "</g>\n",
       "<!-- 4 -->\n",
       "<g id=\"node5\" class=\"node\">\n",
       "<title>4</title>\n",
       "<path fill=\"#e58139\" fill-opacity=\"0.713725\" stroke=\"#000000\" d=\"M461.2393,-203.2C461.2393,-203.2 334.2101,-203.2 334.2101,-203.2 328.2101,-203.2 322.2101,-197.2 322.2101,-191.2 322.2101,-191.2 322.2101,-123.2 322.2101,-123.2 322.2101,-117.2 328.2101,-111.2 334.2101,-111.2 334.2101,-111.2 461.2393,-111.2 461.2393,-111.2 467.2393,-111.2 473.2393,-117.2 473.2393,-123.2 473.2393,-123.2 473.2393,-191.2 473.2393,-191.2 473.2393,-197.2 467.2393,-203.2 461.2393,-203.2\"/>\n",
       "<text text-anchor=\"start\" x=\"367.3734\" y=\"-186.6\" font-family=\"Helvetica,sans-Serif\" font-size=\"14.00\" fill=\"#000000\">age ≤ 9.5</text>\n",
       "<text text-anchor=\"start\" x=\"361.3471\" y=\"-169.8\" font-family=\"Helvetica,sans-Serif\" font-size=\"14.00\" fill=\"#000000\">gini = 0.345</text>\n",
       "<text text-anchor=\"start\" x=\"343.8478\" y=\"-153\" font-family=\"Helvetica,sans-Serif\" font-size=\"14.00\" fill=\"#000000\">samples = 63.8%</text>\n",
       "<text text-anchor=\"start\" x=\"330.2174\" y=\"-136.2\" font-family=\"Helvetica,sans-Serif\" font-size=\"14.00\" fill=\"#000000\">value = [0.778, 0.222]</text>\n",
       "<text text-anchor=\"start\" x=\"359.413\" y=\"-119.4\" font-family=\"Helvetica,sans-Serif\" font-size=\"14.00\" fill=\"#000000\">class = Died</text>\n",
       "</g>\n",
       "<!-- 0&#45;&gt;4 -->\n",
       "<g id=\"edge4\" class=\"edge\">\n",
       "<title>0&#45;&gt;4</title>\n",
       "<path fill=\"none\" stroke=\"#000000\" d=\"M343.4117,-238.9891C349.2495,-230.1979 355.4105,-220.9202 361.4039,-211.8949\"/>\n",
       "<polygon fill=\"#000000\" stroke=\"#000000\" points=\"364.4665,-213.6098 367.0828,-203.3431 358.6351,-209.7374 364.4665,-213.6098\"/>\n",
       "<text text-anchor=\"middle\" x=\"372.0299\" y=\"-223.6487\" font-family=\"Helvetica,sans-Serif\" font-size=\"14.00\" fill=\"#000000\">False</text>\n",
       "</g>\n",
       "<!-- 2 -->\n",
       "<g id=\"node3\" class=\"node\">\n",
       "<title>2</title>\n",
       "<path fill=\"#399de5\" fill-opacity=\"0.937255\" stroke=\"#000000\" d=\"M123.6748,-75.3003C123.6748,-75.3003 11.7746,-75.3003 11.7746,-75.3003 5.7746,-75.3003 -.2254,-69.3003 -.2254,-63.3003 -.2254,-63.3003 -.2254,-11.8997 -.2254,-11.8997 -.2254,-5.8997 5.7746,.1003 11.7746,.1003 11.7746,.1003 123.6748,.1003 123.6748,.1003 129.6748,.1003 135.6748,-5.8997 135.6748,-11.8997 135.6748,-11.8997 135.6748,-63.3003 135.6748,-63.3003 135.6748,-69.3003 129.6748,-75.3003 123.6748,-75.3003\"/>\n",
       "<text text-anchor=\"start\" x=\"31.3471\" y=\"-58.6\" font-family=\"Helvetica,sans-Serif\" font-size=\"14.00\" fill=\"#000000\">gini = 0.113</text>\n",
       "<text text-anchor=\"start\" x=\"13.8478\" y=\"-41.8\" font-family=\"Helvetica,sans-Serif\" font-size=\"14.00\" fill=\"#000000\">samples = 21.2%</text>\n",
       "<text text-anchor=\"start\" x=\"8\" y=\"-25\" font-family=\"Helvetica,sans-Serif\" font-size=\"14.00\" fill=\"#000000\">value = [0.06, 0.94]</text>\n",
       "<text text-anchor=\"start\" x=\"17.7447\" y=\"-8.2\" font-family=\"Helvetica,sans-Serif\" font-size=\"14.00\" fill=\"#000000\">class = survived</text>\n",
       "</g>\n",
       "<!-- 1&#45;&gt;2 -->\n",
       "<g id=\"edge2\" class=\"edge\">\n",
       "<title>1&#45;&gt;2</title>\n",
       "<path fill=\"none\" stroke=\"#000000\" d=\"M166.4779,-110.9595C153.4122,-101.2536 139.6694,-91.0446 126.7265,-81.4299\"/>\n",
       "<polygon fill=\"#000000\" stroke=\"#000000\" points=\"128.4666,-78.3625 118.352,-75.2088 124.2923,-83.9817 128.4666,-78.3625\"/>\n",
       "</g>\n",
       "<!-- 3 -->\n",
       "<g id=\"node4\" class=\"node\">\n",
       "<title>3</title>\n",
       "<path fill=\"#e58139\" fill-opacity=\"0.066667\" stroke=\"#000000\" d=\"M292.2393,-75.3003C292.2393,-75.3003 165.2101,-75.3003 165.2101,-75.3003 159.2101,-75.3003 153.2101,-69.3003 153.2101,-63.3003 153.2101,-63.3003 153.2101,-11.8997 153.2101,-11.8997 153.2101,-5.8997 159.2101,.1003 165.2101,.1003 165.2101,.1003 292.2393,.1003 292.2393,.1003 298.2393,.1003 304.2393,-5.8997 304.2393,-11.8997 304.2393,-11.8997 304.2393,-63.3003 304.2393,-63.3003 304.2393,-69.3003 298.2393,-75.3003 292.2393,-75.3003\"/>\n",
       "<text text-anchor=\"start\" x=\"192.3471\" y=\"-58.6\" font-family=\"Helvetica,sans-Serif\" font-size=\"14.00\" fill=\"#000000\">gini = 0.499</text>\n",
       "<text text-anchor=\"start\" x=\"174.8478\" y=\"-41.8\" font-family=\"Helvetica,sans-Serif\" font-size=\"14.00\" fill=\"#000000\">samples = 15.1%</text>\n",
       "<text text-anchor=\"start\" x=\"161.2174\" y=\"-25\" font-family=\"Helvetica,sans-Serif\" font-size=\"14.00\" fill=\"#000000\">value = [0.517, 0.483]</text>\n",
       "<text text-anchor=\"start\" x=\"190.413\" y=\"-8.2\" font-family=\"Helvetica,sans-Serif\" font-size=\"14.00\" fill=\"#000000\">class = Died</text>\n",
       "</g>\n",
       "<!-- 1&#45;&gt;3 -->\n",
       "<g id=\"edge3\" class=\"edge\">\n",
       "<title>1&#45;&gt;3</title>\n",
       "<path fill=\"none\" stroke=\"#000000\" d=\"M228.7247,-110.9595C228.7247,-102.5477 228.7247,-93.7581 228.7247,-85.3049\"/>\n",
       "<polygon fill=\"#000000\" stroke=\"#000000\" points=\"232.2248,-85.2088 228.7247,-75.2088 225.2248,-85.2089 232.2248,-85.2088\"/>\n",
       "</g>\n",
       "<!-- 5 -->\n",
       "<g id=\"node6\" class=\"node\">\n",
       "<title>5</title>\n",
       "<path fill=\"#399de5\" fill-opacity=\"0.262745\" stroke=\"#000000\" d=\"M461.2393,-75.3003C461.2393,-75.3003 334.2101,-75.3003 334.2101,-75.3003 328.2101,-75.3003 322.2101,-69.3003 322.2101,-63.3003 322.2101,-63.3003 322.2101,-11.8997 322.2101,-11.8997 322.2101,-5.8997 328.2101,.1003 334.2101,.1003 334.2101,.1003 461.2393,.1003 461.2393,.1003 467.2393,.1003 473.2393,-5.8997 473.2393,-11.8997 473.2393,-11.8997 473.2393,-63.3003 473.2393,-63.3003 473.2393,-69.3003 467.2393,-75.3003 461.2393,-75.3003\"/>\n",
       "<text text-anchor=\"start\" x=\"361.3471\" y=\"-58.6\" font-family=\"Helvetica,sans-Serif\" font-size=\"14.00\" fill=\"#000000\">gini = 0.489</text>\n",
       "<text text-anchor=\"start\" x=\"347.7391\" y=\"-41.8\" font-family=\"Helvetica,sans-Serif\" font-size=\"14.00\" fill=\"#000000\">samples = 4.2%</text>\n",
       "<text text-anchor=\"start\" x=\"330.2174\" y=\"-25\" font-family=\"Helvetica,sans-Serif\" font-size=\"14.00\" fill=\"#000000\">value = [0.424, 0.576]</text>\n",
       "<text text-anchor=\"start\" x=\"347.7447\" y=\"-8.2\" font-family=\"Helvetica,sans-Serif\" font-size=\"14.00\" fill=\"#000000\">class = survived</text>\n",
       "</g>\n",
       "<!-- 4&#45;&gt;5 -->\n",
       "<g id=\"edge5\" class=\"edge\">\n",
       "<title>4&#45;&gt;5</title>\n",
       "<path fill=\"none\" stroke=\"#000000\" d=\"M397.7247,-110.9595C397.7247,-102.5477 397.7247,-93.7581 397.7247,-85.3049\"/>\n",
       "<polygon fill=\"#000000\" stroke=\"#000000\" points=\"401.2248,-85.2088 397.7247,-75.2088 394.2248,-85.2089 401.2248,-85.2088\"/>\n",
       "</g>\n",
       "<!-- 6 -->\n",
       "<g id=\"node7\" class=\"node\">\n",
       "<title>6</title>\n",
       "<path fill=\"#e58139\" fill-opacity=\"0.752941\" stroke=\"#000000\" d=\"M630.2393,-75.3003C630.2393,-75.3003 503.2101,-75.3003 503.2101,-75.3003 497.2101,-75.3003 491.2101,-69.3003 491.2101,-63.3003 491.2101,-63.3003 491.2101,-11.8997 491.2101,-11.8997 491.2101,-5.8997 497.2101,.1003 503.2101,.1003 503.2101,.1003 630.2393,.1003 630.2393,.1003 636.2393,.1003 642.2393,-5.8997 642.2393,-11.8997 642.2393,-11.8997 642.2393,-63.3003 642.2393,-63.3003 642.2393,-69.3003 636.2393,-75.3003 630.2393,-75.3003\"/>\n",
       "<text text-anchor=\"start\" x=\"530.3471\" y=\"-58.6\" font-family=\"Helvetica,sans-Serif\" font-size=\"14.00\" fill=\"#000000\">gini = 0.316</text>\n",
       "<text text-anchor=\"start\" x=\"512.8478\" y=\"-41.8\" font-family=\"Helvetica,sans-Serif\" font-size=\"14.00\" fill=\"#000000\">samples = 59.6%</text>\n",
       "<text text-anchor=\"start\" x=\"499.2174\" y=\"-25\" font-family=\"Helvetica,sans-Serif\" font-size=\"14.00\" fill=\"#000000\">value = [0.803, 0.197]</text>\n",
       "<text text-anchor=\"start\" x=\"528.413\" y=\"-8.2\" font-family=\"Helvetica,sans-Serif\" font-size=\"14.00\" fill=\"#000000\">class = Died</text>\n",
       "</g>\n",
       "<!-- 4&#45;&gt;6 -->\n",
       "<g id=\"edge6\" class=\"edge\">\n",
       "<title>4&#45;&gt;6</title>\n",
       "<path fill=\"none\" stroke=\"#000000\" d=\"M463.0645,-110.9595C476.91,-101.1612 491.48,-90.8501 505.179,-81.1554\"/>\n",
       "<polygon fill=\"#000000\" stroke=\"#000000\" points=\"507.4409,-83.8425 513.5818,-75.2088 503.3972,-78.1286 507.4409,-83.8425\"/>\n",
       "</g>\n",
       "</g>\n",
       "</svg>\n"
      ],
      "text/plain": [
       "<graphviz.files.Source at 0x1a20350550>"
      ]
     },
     "execution_count": 464,
     "metadata": {},
     "output_type": "execute_result"
    }
   ],
   "source": [
    "import graphviz\n",
    "dot_data_2 = sk.tree.export_graphviz(dtc2, out_file=None, \n",
    "                         feature_names=list(X.columns), \n",
    "                         class_names = ['survived' if i == 1 else 'Died' for i in dtc2.classes_],\n",
    "                         filled=True, rounded=True,  \n",
    "                         special_characters=True, \n",
    "                         proportion=True,\n",
    "                        )  \n",
    "graph = graphviz.Source(dot_data_2)  \n",
    "graph  "
   ]
  },
  {
   "cell_type": "markdown",
   "metadata": {},
   "source": [
    "The Decision Tree initially classifies the data based on the gender of the passenger, this is because, on overall female passengers had better chance of survival than their male counter-parts and so, it chooses the condition of consideration to be the 'Gender' here. If the passenger is a 'female', then the new condition to be checked is the class of travel of the passenger and then the decision Tree determines if the passenger has survived the accident or not.\n",
    "\n",
    "If the passenger is a male, then the condition of survival now is based on the age of the passenger. Here, the decision tree puts a condition based on age, that male passengers younger than 9.5 years of age have a better chance of survival."
   ]
  },
  {
   "cell_type": "markdown",
   "metadata": {},
   "source": [
    "###  Visually reproduce the left side of the decision tree using seaborn barcharts"
   ]
  },
  {
   "cell_type": "code",
   "execution_count": 507,
   "metadata": {
    "collapsed": true
   },
   "outputs": [],
   "source": [
    "bplot_df = survival[(survival['sex'] == 'female')].groupby(['survived','pclass']).agg('count')"
   ]
  },
  {
   "cell_type": "code",
   "execution_count": 508,
   "metadata": {},
   "outputs": [
    {
     "name": "stderr",
     "output_type": "stream",
     "text": [
      "/Users/agasthya/anaconda3/lib/python3.6/site-packages/seaborn/categorical.py:1460: FutureWarning: remove_na is deprecated and is a private function. Do not use.\n",
      "  stat_data = remove_na(group_data)\n"
     ]
    },
    {
     "data": {
      "image/png": "[encoded data removed]",
      "text/plain": [
       "<matplotlib.figure.Figure at 0x1a2043be80>"
      ]
     },
     "metadata": {},
     "output_type": "display_data"
    }
   ],
   "source": [
    "sns.barplot(x=bplot_df.index,y=bplot_df['sex'],data=bplot_df);\n",
    "plt.xlabel('Survival & Class of Passenger');\n",
    "plt.ylabel('Number of Passengers');\n",
    "plt.title('Survival of Female Passengers based on class');"
   ]
  },
  {
   "cell_type": "markdown",
   "metadata": {},
   "source": [
    "A barplot is used to reproduce the Decision tree, As it can be seen based on the plot, many passengers from 3rd class of the Titanic had lost their life and the survival numbers of the passengers in the first class is higher than the rest of the classes. Female passengers from the 1st and 2nd classes were at a better chance of survival than the female passengers of the 3rd class."
   ]
  },
  {
   "cell_type": "code",
   "execution_count": 520,
   "metadata": {},
   "outputs": [],
   "source": [
    "bplot_df2 = tc1[tc1['sex'] == 'male'].groupby(['Child','survived']).agg('count')"
   ]
  },
  {
   "cell_type": "code",
   "execution_count": 523,
   "metadata": {},
   "outputs": [
    {
     "name": "stderr",
     "output_type": "stream",
     "text": [
      "/Users/agasthya/anaconda3/lib/python3.6/site-packages/seaborn/categorical.py:1460: FutureWarning: remove_na is deprecated and is a private function. Do not use.\n",
      "  stat_data = remove_na(group_data)\n"
     ]
    },
    {
     "data": {
      "image/png": "[encoded data removed]",
      "text/plain": [
       "<matplotlib.figure.Figure at 0x1a2174ca90>"
      ]
     },
     "metadata": {},
     "output_type": "display_data"
    }
   ],
   "source": [
    "sns.barplot(x=bplot_df2.index,y=bplot_df2['sex'],data=bplot_df2);\n",
    "plt.xlabel('Age Bracket & Survival of Passenger');\n",
    "plt.ylabel('Number of Passengers');\n",
    "plt.title('Survival of Passengers based on Age');"
   ]
  },
  {
   "cell_type": "markdown",
   "metadata": {},
   "source": [
    "For the part of Data Analysis above, a new column was already created to determine if the passenger is a child or not based on the condition that the passenger is younger than 10 years.\n",
    "\n",
    "Here , the value 1 determines that the passenger is a 'Child' and 0 determines that the passenger is a 'Adult'\n",
    "A barplot is used to reproduce the right part of the Decision tree, As it can be seen male Children had a better chance of survival than male Adults.\n",
    "\n",
    "**Note - Here, an assumption is made that the condition on the right hand side decision tree(<= 9.5 years) of age applies to the already existing child column**"
   ]
  },
  {
   "cell_type": "markdown",
   "metadata": {},
   "source": [
    "### Use the ranksums test from scipy.stats to statistically reproduce the decision on the left side.\n"
   ]
  },
  {
   "cell_type": "code",
   "execution_count": 554,
   "metadata": {},
   "outputs": [
    {
     "data": {
      "text/plain": [
       "RanksumsResult(statistic=12.88172154173294, pvalue=5.7048674692529501e-38)"
      ]
     },
     "execution_count": 554,
     "metadata": {},
     "output_type": "execute_result"
    }
   ],
   "source": [
    "from scipy.stats import f_oneway, ranksums\n",
    "p3 = ranksums(survival[(survival['sex'] == 'female') & (survival['pclass'] <= 2.5)]['survived'], y)\n",
    "p3"
   ]
  },
  {
   "cell_type": "code",
   "execution_count": 555,
   "metadata": {},
   "outputs": [
    {
     "data": {
      "text/plain": [
       "RanksumsResult(statistic=1.9267661689824194, pvalue=0.054008777406387785)"
      ]
     },
     "execution_count": 555,
     "metadata": {},
     "output_type": "execute_result"
    }
   ],
   "source": [
    "p4 = ranksums(survival[(survival['sex'] == 'male') & (survival['age'] <= 9.5)]['survived'], y)\n",
    "p4"
   ]
  },
  {
   "cell_type": "code",
   "execution_count": 553,
   "metadata": {},
   "outputs": [],
   "source": [
    "#one_way = f_oneway(X_test,y_test)"
   ]
  },
  {
   "cell_type": "markdown",
   "metadata": {},
   "source": [
    "The use of t_test, ranksums and f_oneway is not completely understood on how it is exactly applied on the data.  "
   ]
  },
  {
   "cell_type": "markdown",
   "metadata": {},
   "source": [
    "Reference : https://docs.scipy.org/doc/scipy-0.18.1/reference/generated/scipy.stats.f_oneway.html"
   ]
  }
 ],
 "metadata": {
  "kernelspec": {
   "display_name": "Python 3",
   "language": "python",
   "name": "python3"
  },
  "language_info": {
   "codemirror_mode": {
    "name": "ipython",
    "version": 3
   },
   "file_extension": ".py",
   "mimetype": "text/x-python",
   "name": "python",
   "nbconvert_exporter": "python",
   "pygments_lexer": "ipython3",
   "version": "3.6.4"
  },
  "toc": {
   "nav_menu": {},
   "number_sections": true,
   "sideBar": true,
   "skip_h1_title": false,
   "title_cell": "Table of Contents",
   "title_sidebar": "Contents",
   "toc_cell": false,
   "toc_position": {},
   "toc_section_display": true,
   "toc_window_display": false
  },
  "varInspector": {
   "cols": {
    "lenName": 16,
    "lenType": 16,
    "lenVar": 40
   },
   "kernels_config": {
    "python": {
     "delete_cmd_postfix": "",
     "delete_cmd_prefix": "del ",
     "library": "var_list.py",
     "varRefreshCmd": "print(var_dic_list())"
    },
    "r": {
     "delete_cmd_postfix": ") ",
     "delete_cmd_prefix": "rm(",
     "library": "var_list.r",
     "varRefreshCmd": "cat(var_dic_list()) "
    }
   },
   "types_to_exclude": [
    "module",
    "function",
    "builtin_function_or_method",
    "instance",
    "_Feature"
   ],
   "window_display": false
  }
 },
 "nbformat": 4,
 "nbformat_minor": 2
}
