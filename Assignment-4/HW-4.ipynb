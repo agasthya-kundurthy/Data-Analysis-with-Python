{
 "cells": [
  {
   "cell_type": "markdown",
   "metadata": {},
   "source": [
    "# Homework 4 - UFOs!!!\n",
    "\n",
    "The objective of this homework is to practice cleaning and transforming data. To successfully complete this homework, you may use any resources available to you.\n",
    "Get the scrubbed.csv data here. Develop three interesting insights into the UFO phenomenon.\n",
    "\n",
    "* When and where do people see UFOs in California?\n",
    "* Are there differences in the circumstances of UFO sightings across the U.S. states? (Explore the comment column)\n",
    "* What is the average length of UFO sightings across the U.S. states?\n",
    "\n",
    "Hints:\n",
    "When you explore the comment column, think about the work we did on twitter.\n",
    "For better performance, download the data to your local drive.\n",
    "Make reasonable assumptions when transforming the length data."
   ]
  },
  {
   "cell_type": "markdown",
   "metadata": {},
   "source": [
    "To make multi-line outputs work!"
   ]
  },
  {
   "cell_type": "code",
   "execution_count": 1,
   "metadata": {
    "collapsed": true
   },
   "outputs": [],
   "source": [
    "from IPython.core.interactiveshell import InteractiveShell\n",
    "InteractiveShell.ast_node_interactivity = 'all'"
   ]
  },
  {
   "cell_type": "markdown",
   "metadata": {},
   "source": [
    "Import the pandas framework to work with Dataframes"
   ]
  },
  {
   "cell_type": "code",
   "execution_count": 2,
   "metadata": {
    "collapsed": true
   },
   "outputs": [],
   "source": [
    "import pandas as pd"
   ]
  },
  {
   "cell_type": "markdown",
   "metadata": {},
   "source": [
    "### Data for the Assignment"
   ]
  },
  {
   "cell_type": "markdown",
   "metadata": {},
   "source": [
    "Read the CSV file which contains the UFO data.\n",
    "\n",
    "Note - CSV file couldn't be uploaded to github and hence was used as part of the Jupyter Notebook."
   ]
  },
  {
   "cell_type": "code",
   "execution_count": 3,
   "metadata": {
    "collapsed": true
   },
   "outputs": [],
   "source": [
    "ufo_df = pd.read_csv(\"scrubbed.csv\",low_memory = False) "
   ]
  },
  {
   "cell_type": "markdown",
   "metadata": {},
   "source": [
    "#### Copy the DataFrame to a New one to work and edit! "
   ]
  },
  {
   "cell_type": "code",
   "execution_count": 6,
   "metadata": {
    "collapsed": true
   },
   "outputs": [],
   "source": [
    "ufo_df_copy = ufo_df"
   ]
  },
  {
   "cell_type": "markdown",
   "metadata": {},
   "source": [
    "Change the column name for better understanding."
   ]
  },
  {
   "cell_type": "code",
   "execution_count": 7,
   "metadata": {
    "collapsed": true
   },
   "outputs": [],
   "source": [
    "ufo_df_copy.rename(columns = {'duration (seconds)':'duration in seconds'}, inplace=True)"
   ]
  },
  {
   "cell_type": "markdown",
   "metadata": {},
   "source": [
    "#### To find only the occurences in US as their country."
   ]
  },
  {
   "cell_type": "code",
   "execution_count": 8,
   "metadata": {
    "collapsed": true
   },
   "outputs": [],
   "source": [
    "stateCa = ufo_df_copy['country'] == 'us'"
   ]
  },
  {
   "cell_type": "code",
   "execution_count": 9,
   "metadata": {
    "collapsed": true
   },
   "outputs": [],
   "source": [
    "ufo_ca = ufo_df_copy[stateCa]"
   ]
  },
  {
   "cell_type": "markdown",
   "metadata": {},
   "source": [
    "#### To ignore the warnings if any."
   ]
  },
  {
   "cell_type": "code",
   "execution_count": 11,
   "metadata": {
    "collapsed": true
   },
   "outputs": [],
   "source": [
    "import warnings\n",
    "warnings.filterwarnings('ignore')"
   ]
  },
  {
   "cell_type": "markdown",
   "metadata": {},
   "source": [
    "The duration in seconds column is in String, Strip the string to delete whitespaces and also use regular expressions to allow only accepted values"
   ]
  },
  {
   "cell_type": "code",
   "execution_count": 12,
   "metadata": {
    "collapsed": true
   },
   "outputs": [],
   "source": [
    "ufo_ca['duration in seconds'] = ufo_ca['duration in seconds'].str.strip()"
   ]
  },
  {
   "cell_type": "code",
   "execution_count": 13,
   "metadata": {
    "collapsed": true
   },
   "outputs": [],
   "source": [
    "ufo_ca_mean = ufo_ca['duration in seconds'].str.extract('([0-9]+)')"
   ]
  },
  {
   "cell_type": "markdown",
   "metadata": {},
   "source": [
    "The format of the durations in in string and it needs to be converted to numeric values, float has been used as the conversion type because of some values having decimal points"
   ]
  },
  {
   "cell_type": "markdown",
   "metadata": {},
   "source": [
    "\n",
    "\n",
    "http://www.secnetix.de/olli/Python/lambda_functions.hawk"
   ]
  },
  {
   "cell_type": "code",
   "execution_count": 15,
   "metadata": {
    "collapsed": true
   },
   "outputs": [],
   "source": [
    "ufo_ca_mean = ufo_ca_mean.apply(lambda x: float(x))"
   ]
  },
  {
   "cell_type": "markdown",
   "metadata": {},
   "source": [
    "The mean time is to be represented in minutes and hence it is divided by 60 to be converted into minutes"
   ]
  },
  {
   "cell_type": "code",
   "execution_count": 16,
   "metadata": {
    "collapsed": true
   },
   "outputs": [],
   "source": [
    "ufo_ca_mean = ufo_ca_mean/60"
   ]
  },
  {
   "cell_type": "code",
   "execution_count": 172,
   "metadata": {},
   "outputs": [],
   "source": [
    "%matplotlib inline"
   ]
  },
  {
   "cell_type": "markdown",
   "metadata": {},
   "source": [
    "The mean function is used to get the mean of the UFO sightings in minutes."
   ]
  },
  {
   "cell_type": "code",
   "execution_count": 19,
   "metadata": {},
   "outputs": [
    {
     "data": {
      "text/plain": [
       "96.66687706688512"
      ]
     },
     "execution_count": 19,
     "metadata": {},
     "output_type": "execute_result"
    }
   ],
   "source": [
    "ufo_ca_mean.mean()"
   ]
  },
  {
   "cell_type": "markdown",
   "metadata": {},
   "source": [
    "The average sighting of UFOs in the US is about 97 minutes!"
   ]
  },
  {
   "cell_type": "code",
   "execution_count": 24,
   "metadata": {},
   "outputs": [
    {
     "data": {
      "text/plain": [
       "31318"
      ]
     },
     "execution_count": 24,
     "metadata": {},
     "output_type": "execute_result"
    },
    {
     "data": {
      "text/plain": [
       "38.985709306378531"
      ]
     },
     "execution_count": 24,
     "metadata": {},
     "output_type": "execute_result"
    }
   ],
   "source": [
    "newdf2 = ufo_df.loc[ufo_df['comments'].str.contains('light',na=False)]\n",
    "\n",
    "newdf2['datetime'].count()\n",
    "newdf2['datetime'].count()/ufo_df['datetime'].count() * 100"
   ]
  },
  {
   "cell_type": "markdown",
   "metadata": {},
   "source": [
    "### Interesting Fact - 1\n",
    "\n",
    "Out of all the occurences, only about 40% of the sightings have mentioned about some form of light appearing while the UFO was in action.\n",
    "\n",
    "This is interesting because, it is opposes the common belief that there is light during the UFO sightings."
   ]
  },
  {
   "cell_type": "code",
   "execution_count": 66,
   "metadata": {},
   "outputs": [
    {
     "data": {
      "text/plain": [
       "2142"
      ]
     },
     "execution_count": 66,
     "metadata": {},
     "output_type": "execute_result"
    },
    {
     "data": {
      "text/plain": [
       "2.6664342976646918"
      ]
     },
     "execution_count": 66,
     "metadata": {},
     "output_type": "execute_result"
    }
   ],
   "source": [
    "newdf3 = ufo_df.loc[ufo_df['comments'].str.contains('fireball',na=False)]\n",
    "newdf3['datetime'].count()\n",
    "newdf3['datetime'].count()/ufo_df['datetime'].count() * 100"
   ]
  },
  {
   "cell_type": "markdown",
   "metadata": {},
   "source": [
    "### Interesting Fact - 2 :\n",
    "\n",
    "It is interesting to note that some of the UFO sightings have been mentioned as 'Fireball' appearing in the sky. Maybe these were not UFOs and they might have been Asteroid collision on the Earth's surface which appear to be fireballs when they enter the Earth's atmosphere. "
   ]
  },
  {
   "cell_type": "code",
   "execution_count": 67,
   "metadata": {},
   "outputs": [
    {
     "data": {
      "text/plain": [
       "199"
      ]
     },
     "execution_count": 67,
     "metadata": {},
     "output_type": "execute_result"
    },
    {
     "data": {
      "text/plain": [
       "0.2477219538913509"
      ]
     },
     "execution_count": 67,
     "metadata": {},
     "output_type": "execute_result"
    }
   ],
   "source": [
    "newdf4 = ufo_df.loc[ufo_df['comments'].str.contains('summer',na=False)]\n",
    "newdf4['datetime'].count()\n",
    "newdf4['datetime'].count()/ufo_df['datetime'].count() * 100"
   ]
  },
  {
   "cell_type": "code",
   "execution_count": 68,
   "metadata": {},
   "outputs": [
    {
     "data": {
      "text/plain": [
       "751"
      ]
     },
     "execution_count": 68,
     "metadata": {},
     "output_type": "execute_result"
    },
    {
     "data": {
      "text/plain": [
       "0.93487028830354035"
      ]
     },
     "execution_count": 68,
     "metadata": {},
     "output_type": "execute_result"
    }
   ],
   "source": [
    "newdf4 = ufo_df.loc[ufo_df['comments'].str.contains('fall',na=False)]\n",
    "newdf4['datetime'].count()\n",
    "newdf4['datetime'].count()/ufo_df['datetime'].count() * 100"
   ]
  },
  {
   "cell_type": "code",
   "execution_count": 69,
   "metadata": {},
   "outputs": [
    {
     "data": {
      "text/plain": [
       "34"
      ]
     },
     "execution_count": 69,
     "metadata": {},
     "output_type": "execute_result"
    },
    {
     "data": {
      "text/plain": [
       "0.042324353931185582"
      ]
     },
     "execution_count": 69,
     "metadata": {},
     "output_type": "execute_result"
    }
   ],
   "source": [
    "newdf4 = ufo_df.loc[ufo_df['comments'].str.contains('winter',na=False)]\n",
    "newdf4['datetime'].count()\n",
    "newdf4['datetime'].count()/ufo_df['datetime'].count() * 100"
   ]
  },
  {
   "cell_type": "code",
   "execution_count": 70,
   "metadata": {},
   "outputs": [
    {
     "data": {
      "text/plain": [
       "59"
      ]
     },
     "execution_count": 70,
     "metadata": {},
     "output_type": "execute_result"
    },
    {
     "data": {
      "text/plain": [
       "0.073445202409998508"
      ]
     },
     "execution_count": 70,
     "metadata": {},
     "output_type": "execute_result"
    }
   ],
   "source": [
    "newdf4 = ufo_df.loc[ufo_df['comments'].str.contains('spring',na=False)]\n",
    "newdf4['datetime'].count()\n",
    "newdf4['datetime'].count()/ufo_df['datetime'].count() * 100"
   ]
  },
  {
   "cell_type": "markdown",
   "metadata": {},
   "source": [
    "### Interesting Fact - 3 :\n",
    "\n",
    "The sightings of UFOs have also been linked with stars, maybe people think about stars when they see the bright shining light in the Sky. "
   ]
  },
  {
   "cell_type": "code",
   "execution_count": 76,
   "metadata": {},
   "outputs": [
    {
     "data": {
      "text/plain": [
       "4232"
      ]
     },
     "execution_count": 76,
     "metadata": {},
     "output_type": "execute_result"
    },
    {
     "data": {
      "text/plain": [
       "5.2681372304934522"
      ]
     },
     "execution_count": 76,
     "metadata": {},
     "output_type": "execute_result"
    }
   ],
   "source": [
    "newdf4 = ufo_df.loc[ufo_df['comments'].str.contains('star' or 'stars',na=False)]\n",
    "newdf4['datetime'].count()\n",
    "newdf4['datetime'].count()/ufo_df['datetime'].count() * 100"
   ]
  },
  {
   "cell_type": "code",
   "execution_count": 85,
   "metadata": {},
   "outputs": [
    {
     "data": {
      "text/plain": [
       "<matplotlib.axes._subplots.AxesSubplot at 0x11b0f61d0>"
      ]
     },
     "execution_count": 85,
     "metadata": {},
     "output_type": "execute_result"
    },
    {
     "data": {
      "image/png": "[encoded data removed]",
      "text/plain": [
       "<matplotlib.figure.Figure at 0x11b0e1fd0>"
      ]
     },
     "metadata": {},
     "output_type": "display_data"
    }
   ],
   "source": [
    "newDF = ufo_df.groupby('shape').count()\n",
    "newDF = newDF.sort_values(by = 'datetime',ascending=False)\n",
    "newDF2 = newDF.head(10)\n",
    "newDF2['datetime'].plot.bar()"
   ]
  },
  {
   "cell_type": "markdown",
   "metadata": {
    "collapsed": true
   },
   "source": [
    "\n",
    "https://stackoverflow.com/questions/28311655/ignoring-nans-with-str-contains\n",
    "    "
   ]
  },
  {
   "cell_type": "markdown",
   "metadata": {
    "collapsed": true
   },
   "source": [
    "The places and number of occurences of UFO sightings in California is to be found."
   ]
  },
  {
   "cell_type": "code",
   "execution_count": 27,
   "metadata": {
    "collapsed": true
   },
   "outputs": [],
   "source": [
    "stateCa2 = ufo_df_copy['state'] == 'ca'\n",
    "ufo_states2 = ufo_df_copy[stateCa2]"
   ]
  },
  {
   "cell_type": "markdown",
   "metadata": {},
   "source": [
    "### Visualizing 'where' in california :\n",
    "A new dataframe is created and is grouped by cities and counted to get the number of occurences in a particular place in california. This is then sorted using the sort function and the top 10 places with the most occurences is displayed. Matplotlib is used to visualize the data to get better understanding of the top 10 places with UFO sightings in the state."
   ]
  },
  {
   "cell_type": "code",
   "execution_count": 43,
   "metadata": {},
   "outputs": [
    {
     "data": {
      "text/plain": [
       "<matplotlib.axes._subplots.AxesSubplot at 0x11941dfd0>"
      ]
     },
     "execution_count": 43,
     "metadata": {},
     "output_type": "execute_result"
    },
    {
     "data": {
      "image/png": "[encoded data removed]",
      "text/plain": [
       "<matplotlib.figure.Figure at 0x1192c5c18>"
      ]
     },
     "metadata": {},
     "output_type": "display_data"
    }
   ],
   "source": [
    "newdf5 = ufo_states2.groupby('city').count()\n",
    "sortedStateDF = newdf5.sort_values(by = 'datetime',ascending = False)\n",
    "sortedStateDF2 = sortedStateDF.head(10)\n",
    "sortedStateDF2['datetime'].plot.bar()"
   ]
  },
  {
   "cell_type": "markdown",
   "metadata": {},
   "source": [
    "### Golden State or UFO State?\n",
    "\n",
    "California in the US has the most number of UFO sightings recorded at nearly about 10,000 sightings. Another interesting fact here to be noted is that Washington which has the 2nd highest UFO sightings is less than half of UFO sightings in California!\n",
    "\n",
    "Moreover, it would be interesting to see if Agriculture has something to do with the UFO sightings as UFOs have a connection to corn fields and California is the Top state in the US for Agriculture produce.\n",
    "\n",
    "https://www.ers.usda.gov/faqs/#Q1"
   ]
  },
  {
   "cell_type": "code",
   "execution_count": 61,
   "metadata": {},
   "outputs": [
    {
     "data": {
      "text/plain": [
       "<matplotlib.axes._subplots.AxesSubplot at 0x11ae0ccc0>"
      ]
     },
     "execution_count": 61,
     "metadata": {},
     "output_type": "execute_result"
    },
    {
     "data": {
      "image/png": "[encoded data removed]",
      "text/plain": [
       "<matplotlib.figure.Figure at 0x11ae085f8>"
      ]
     },
     "metadata": {},
     "output_type": "display_data"
    }
   ],
   "source": [
    "ufo_states = ufo_df.groupby('state').count()\n",
    "ufo_states_sightings = ufo_states.sort_values(by = 'datetime',ascending=False)\n",
    "ufo_states_sightings2 = ufo_states.head(10)\n",
    "ufo_states_sightings2['datetime'].plot.bar()"
   ]
  },
  {
   "cell_type": "code",
   "execution_count": 62,
   "metadata": {
    "collapsed": true
   },
   "outputs": [],
   "source": [
    "ufo_ca_time = ufo_df.groupby('state')"
   ]
  },
  {
   "cell_type": "markdown",
   "metadata": {},
   "source": [
    "### Visualizing 'when' in California :\n",
    "\n",
    "The UFO sightings in California had began way back in the 1940s. But the recent sightings has increased tremendously, it can be seen from the graph that the top 10 number of occurences are in the recent years."
   ]
  },
  {
   "cell_type": "code",
   "execution_count": 149,
   "metadata": {},
   "outputs": [],
   "source": [
    "ufo_states3 = ufo_df_copy[stateCa2]"
   ]
  },
  {
   "cell_type": "markdown",
   "metadata": {},
   "source": [
    "The date time is in String, so the string is split based on '/' and then the years are part of an array. \n",
    "Map functions have been used for transforming the data easily and a new dataframe is used to store the data."
   ]
  },
  {
   "cell_type": "code",
   "execution_count": 150,
   "metadata": {},
   "outputs": [],
   "source": [
    "ufo_states3['datetime'] = ufo_states3['datetime'].str.split('/')\n",
    "years = ufo_states3['datetime'].map(lambda x: x[2]).str.split(' ')\n",
    "years = years.map(lambda x: x[0])"
   ]
  },
  {
   "cell_type": "code",
   "execution_count": 159,
   "metadata": {},
   "outputs": [],
   "source": [
    "df_final = pd.DataFrame(data = {\"Years\":years,\"City\":ufo_states3['city']})"
   ]
  },
  {
   "cell_type": "code",
   "execution_count": null,
   "metadata": {},
   "outputs": [],
   "source": [
    "df_final.groupby('Years').count()"
   ]
  },
  {
   "cell_type": "code",
   "execution_count": 168,
   "metadata": {},
   "outputs": [
    {
     "data": {
      "text/plain": [
       "<matplotlib.axes._subplots.AxesSubplot at 0x11bffbef0>"
      ]
     },
     "execution_count": 168,
     "metadata": {},
     "output_type": "execute_result"
    },
    {
     "data": {
      "image/png": "[encoded data removed]",
      "text/plain": [
       "<matplotlib.figure.Figure at 0x11c015c50>"
      ]
     },
     "metadata": {},
     "output_type": "display_data"
    }
   ],
   "source": [
    "ufo_states4 = df_final.groupby('Years').count()\n",
    "ufo_states_sightings3 = ufo_states4.sort_values(by = 'City',ascending=False)\n",
    "ufo_states_sightings4 = ufo_states_sightings3.head(10)\n",
    "ufo_states_sightings4['City'].plot.bar()"
   ]
  }
 ],
 "metadata": {
  "kernelspec": {
   "display_name": "Python 3",
   "language": "python",
   "name": "python3"
  },
  "language_info": {
   "codemirror_mode": {
    "name": "ipython",
    "version": 3
   },
   "file_extension": ".py",
   "mimetype": "text/x-python",
   "name": "python",
   "nbconvert_exporter": "python",
   "pygments_lexer": "ipython3",
   "version": "3.6.2"
  }
 },
 "nbformat": 4,
 "nbformat_minor": 2
}
