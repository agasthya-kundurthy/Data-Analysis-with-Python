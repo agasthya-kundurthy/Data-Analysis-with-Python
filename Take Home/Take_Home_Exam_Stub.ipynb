{
 "cells": [
  {
   "cell_type": "markdown",
   "metadata": {},
   "source": [
    "# Take Home Exam"
   ]
  },
  {
   "cell_type": "markdown",
   "metadata": {
    "ExecuteTime": {
     "end_time": "2018-02-09T02:47:21.154845Z",
     "start_time": "2018-02-09T02:47:21.148053Z"
    }
   },
   "source": [
    "## Overview"
   ]
  },
  {
   "cell_type": "code",
   "execution_count": 4,
   "metadata": {
    "collapsed": true
   },
   "outputs": [],
   "source": [
    "import numpy as np\n",
    "import pandas as pd\n",
    "pd.options.display.float_format = '{:.4f}'.format"
   ]
  },
  {
   "cell_type": "code",
   "execution_count": 5,
   "metadata": {
    "ExecuteTime": {
     "end_time": "2018-02-09T02:32:57.453215Z",
     "start_time": "2018-02-09T02:32:57.208930Z"
    },
    "collapsed": true
   },
   "outputs": [],
   "source": [
    "%matplotlib inline"
   ]
  },
  {
   "cell_type": "code",
   "execution_count": 6,
   "metadata": {
    "ExecuteTime": {
     "end_time": "2018-02-09T02:32:57.827511Z",
     "start_time": "2018-02-09T02:32:57.819390Z"
    },
    "collapsed": true
   },
   "outputs": [],
   "source": [
    "from IPython.core.interactiveshell import InteractiveShell\n",
    "InteractiveShell.ast_node_interactivity = \"all\""
   ]
  },
  {
   "cell_type": "code",
   "execution_count": 7,
   "metadata": {
    "ExecuteTime": {
     "end_time": "2018-02-09T02:32:59.474851Z",
     "start_time": "2018-02-09T02:32:58.389018Z"
    },
    "collapsed": true
   },
   "outputs": [],
   "source": [
    "cd = pd.read_csv('complications.csv', dtype=str).rename(columns=lambda x: x.strip())"
   ]
  },
  {
   "cell_type": "markdown",
   "metadata": {},
   "source": [
    "This dataset contains complications in U.S. hospitals. Each observation represents the number of complications and the 30-day death rate for a specific complication in a specific hospital."
   ]
  },
  {
   "cell_type": "markdown",
   "metadata": {},
   "source": [
    "** A quick overview of the dataset: **"
   ]
  },
  {
   "cell_type": "code",
   "execution_count": 9,
   "metadata": {
    "ExecuteTime": {
     "end_time": "2018-02-09T02:33:06.354324Z",
     "start_time": "2018-02-09T02:33:05.407259Z"
    }
   },
   "outputs": [
    {
     "data": {
      "text/html": [
       "<div>\n",
       "<style>\n",
       "    .dataframe thead tr:only-child th {\n",
       "        text-align: right;\n",
       "    }\n",
       "\n",
       "    .dataframe thead th {\n",
       "        text-align: left;\n",
       "    }\n",
       "\n",
       "    .dataframe tbody tr th {\n",
       "        vertical-align: top;\n",
       "    }\n",
       "</style>\n",
       "<table border=\"1\" class=\"dataframe\">\n",
       "  <thead>\n",
       "    <tr style=\"text-align: right;\">\n",
       "      <th></th>\n",
       "      <th>Provider ID</th>\n",
       "      <th>Hospital Name</th>\n",
       "      <th>Address</th>\n",
       "      <th>City</th>\n",
       "      <th>ZIP Code</th>\n",
       "      <th>County Name</th>\n",
       "      <th>Phone Number</th>\n",
       "      <th>Year</th>\n",
       "      <th>Measure ID</th>\n",
       "      <th>Measure Name</th>\n",
       "      <th>Denominator</th>\n",
       "      <th>Score</th>\n",
       "      <th>Lower Estimate</th>\n",
       "      <th>Higher Estimate</th>\n",
       "    </tr>\n",
       "  </thead>\n",
       "  <tbody>\n",
       "    <tr>\n",
       "      <th>count</th>\n",
       "      <td>272788</td>\n",
       "      <td>272788</td>\n",
       "      <td>272788</td>\n",
       "      <td>272788</td>\n",
       "      <td>272788</td>\n",
       "      <td>272626</td>\n",
       "      <td>272788</td>\n",
       "      <td>272788</td>\n",
       "      <td>272788</td>\n",
       "      <td>272788</td>\n",
       "      <td>272788</td>\n",
       "      <td>272788</td>\n",
       "      <td>272788</td>\n",
       "      <td>272788</td>\n",
       "    </tr>\n",
       "    <tr>\n",
       "      <th>unique</th>\n",
       "      <td>4746</td>\n",
       "      <td>5119</td>\n",
       "      <td>4915</td>\n",
       "      <td>2874</td>\n",
       "      <td>4368</td>\n",
       "      <td>1526</td>\n",
       "      <td>5028</td>\n",
       "      <td>6</td>\n",
       "      <td>26</td>\n",
       "      <td>26</td>\n",
       "      <td>23771</td>\n",
       "      <td>6373</td>\n",
       "      <td>8690</td>\n",
       "      <td>11699</td>\n",
       "    </tr>\n",
       "    <tr>\n",
       "      <th>top</th>\n",
       "      <td>270012</td>\n",
       "      <td>MEMORIAL HOSPITAL</td>\n",
       "      <td>100 HOSPITAL DRIVE</td>\n",
       "      <td>CHICAGO</td>\n",
       "      <td>76104</td>\n",
       "      <td>LOS ANGELES</td>\n",
       "      <td>6104022273</td>\n",
       "      <td>2013</td>\n",
       "      <td>MORT_30_PN</td>\n",
       "      <td>Pneumonia (PN) 30-Day Mortality Rate</td>\n",
       "      <td>26.0</td>\n",
       "      <td>0.06</td>\n",
       "      <td>0.0</td>\n",
       "      <td>0.06</td>\n",
       "    </tr>\n",
       "    <tr>\n",
       "      <th>freq</th>\n",
       "      <td>89</td>\n",
       "      <td>710</td>\n",
       "      <td>378</td>\n",
       "      <td>1957</td>\n",
       "      <td>353</td>\n",
       "      <td>5421</td>\n",
       "      <td>178</td>\n",
       "      <td>58668</td>\n",
       "      <td>24942</td>\n",
       "      <td>24942</td>\n",
       "      <td>1435</td>\n",
       "      <td>2947</td>\n",
       "      <td>23907</td>\n",
       "      <td>2897</td>\n",
       "    </tr>\n",
       "  </tbody>\n",
       "</table>\n",
       "</div>"
      ],
      "text/plain": [
       "       Provider ID      Hospital Name             Address     City ZIP Code  \\\n",
       "count       272788             272788              272788   272788   272788   \n",
       "unique        4746               5119                4915     2874     4368   \n",
       "top         270012  MEMORIAL HOSPITAL  100 HOSPITAL DRIVE  CHICAGO    76104   \n",
       "freq            89                710                 378     1957      353   \n",
       "\n",
       "        County Name Phone Number    Year  Measure ID  \\\n",
       "count        272626       272788  272788      272788   \n",
       "unique         1526         5028       6          26   \n",
       "top     LOS ANGELES   6104022273    2013  MORT_30_PN   \n",
       "freq           5421          178   58668       24942   \n",
       "\n",
       "                                Measure Name Denominator   Score  \\\n",
       "count                                 272788      272788  272788   \n",
       "unique                                    26       23771    6373   \n",
       "top     Pneumonia (PN) 30-Day Mortality Rate        26.0    0.06   \n",
       "freq                                   24942        1435    2947   \n",
       "\n",
       "       Lower Estimate Higher Estimate  \n",
       "count          272788          272788  \n",
       "unique           8690           11699  \n",
       "top               0.0            0.06  \n",
       "freq            23907            2897  "
      ]
     },
     "execution_count": 9,
     "metadata": {},
     "output_type": "execute_result"
    }
   ],
   "source": [
    "cd.describe()"
   ]
  },
  {
   "cell_type": "markdown",
   "metadata": {
    "ExecuteTime": {
     "end_time": "2018-02-09T01:16:45.300896Z",
     "start_time": "2018-02-09T01:16:45.295156Z"
    }
   },
   "source": [
    "# Transform relevant columns"
   ]
  },
  {
   "cell_type": "markdown",
   "metadata": {},
   "source": [
    "All columns in the dataset are of type `str` (to preserve the ZIP code information). For **five** columns, str is the wrong type. Change the columns and explain why you changed which column."
   ]
  },
  {
   "cell_type": "markdown",
   "metadata": {},
   "source": [
    "### The columns that can be transformed are - Denominator,Score,Lower Estimate,Higher Estimate and Phone Number\t"
   ]
  },
  {
   "cell_type": "markdown",
   "metadata": {},
   "source": [
    "Here the Data in the respective columns are to be converted from string to Numeric types. So, astype() is used and the type of value to be converted to is given as the parameter. astype() is efficient and completes the conversion in microseconds."
   ]
  },
  {
   "cell_type": "markdown",
   "metadata": {},
   "source": [
    "** Phone Number is of the type str but it is a number and hence it is converted to int.**"
   ]
  },
  {
   "cell_type": "code",
   "execution_count": 11,
   "metadata": {
    "collapsed": true
   },
   "outputs": [],
   "source": [
    "cd['Phone Number'] = cd['Phone Number'].astype(int)"
   ]
  },
  {
   "cell_type": "markdown",
   "metadata": {},
   "source": [
    "** Denominator is of the type str but it should be of type float.**"
   ]
  },
  {
   "cell_type": "code",
   "execution_count": 12,
   "metadata": {
    "collapsed": true
   },
   "outputs": [],
   "source": [
    "cd['Denominator'] = cd['Denominator'].astype(float)"
   ]
  },
  {
   "cell_type": "markdown",
   "metadata": {},
   "source": [
    "**Score is of the type str but it should be of type float.**"
   ]
  },
  {
   "cell_type": "code",
   "execution_count": 13,
   "metadata": {
    "collapsed": true
   },
   "outputs": [],
   "source": [
    "cd['Score'] = cd['Score'].astype(float)"
   ]
  },
  {
   "cell_type": "markdown",
   "metadata": {},
   "source": [
    "**Lower Estimate is of the type str but it should be of type float.**"
   ]
  },
  {
   "cell_type": "code",
   "execution_count": 14,
   "metadata": {
    "collapsed": true
   },
   "outputs": [],
   "source": [
    "cd['Lower Estimate'] = cd['Lower Estimate'].astype(float)"
   ]
  },
  {
   "cell_type": "markdown",
   "metadata": {},
   "source": [
    "**Higher Estimate is of the type str but it should be of type float.**"
   ]
  },
  {
   "cell_type": "code",
   "execution_count": 15,
   "metadata": {
    "collapsed": true
   },
   "outputs": [],
   "source": [
    "cd['Higher Estimate'] = cd['Higher Estimate'].astype(float)"
   ]
  },
  {
   "cell_type": "markdown",
   "metadata": {
    "ExecuteTime": {
     "end_time": "2018-02-09T01:31:41.847890Z",
     "start_time": "2018-02-09T01:31:41.839019Z"
    }
   },
   "source": [
    "# Create a ratio between the score and the denominator"
   ]
  },
  {
   "cell_type": "markdown",
   "metadata": {
    "ExecuteTime": {
     "end_time": "2018-02-09T01:34:20.308451Z",
     "start_time": "2018-02-09T01:34:20.287272Z"
    }
   },
   "source": [
    "A new column **'Ratio'** is created in the Dataframe to hold the results of all the score/denominator respectively."
   ]
  },
  {
   "cell_type": "code",
   "execution_count": 16,
   "metadata": {
    "collapsed": true
   },
   "outputs": [],
   "source": [
    "cd['Ratio'] = cd['Score']/cd['Denominator']"
   ]
  },
  {
   "cell_type": "markdown",
   "metadata": {},
   "source": [
    "# Create an overview of the ratio for deathly complications\n",
    "\n",
    "0. **Be careful when you identify 'deathly' complications and make sure that you catch all of them.**\n",
    "1. Create the overview (Make sure that the overview is understandable to everyone.)\n",
    "2. Choose an appropriate measure to aggregate the data. **Ignore that the data is for multiple years**.\n",
    "2. Sort with the highest ratio on top."
   ]
  },
  {
   "cell_type": "markdown",
   "metadata": {},
   "source": [
    "Here, it is better to store all the resultant values in a New Dataframe because, later we would need to perform analysis on the same.\n",
    "\n",
    "The deathly complications are determined by the words **'Death','Deaths' and 'Mortality'**, so the new dataframe will only contain the values based on these measure names.\n",
    "\n",
    "**str.contains()** is used to determine if the Measure Name contains any of the deathly complications."
   ]
  },
  {
   "cell_type": "code",
   "execution_count": 17,
   "metadata": {
    "collapsed": true
   },
   "outputs": [],
   "source": [
    "newDF = cd[(cd['Measure Name'].str.contains('Death')) | (cd['Measure Name'].str.contains('Deaths')) | (cd['Measure Name'].str.contains('Mortality'))]"
   ]
  },
  {
   "cell_type": "markdown",
   "metadata": {},
   "source": [
    "The describe() of Pandas is used to give an overview of the Dataframe. It mainly gives the numerical overview of the Dataframe and hence it is used on the Ratio column of the Dataframe.\n",
    "\n",
    "The dataframe is grouped by using the groupby() to concentrate on the 'deathly complications' and the decribe function is used to decribe the 'Ratio' values of these **'deathly complications'.**\n",
    "\n",
    "The Ratio here refers to the ratio calculated above **(Score/Denominator).**"
   ]
  },
  {
   "cell_type": "code",
   "execution_count": 18,
   "metadata": {},
   "outputs": [
    {
     "data": {
      "text/html": [
       "<div>\n",
       "<style>\n",
       "    .dataframe thead tr:only-child th {\n",
       "        text-align: right;\n",
       "    }\n",
       "\n",
       "    .dataframe thead th {\n",
       "        text-align: left;\n",
       "    }\n",
       "\n",
       "    .dataframe tbody tr th {\n",
       "        vertical-align: top;\n",
       "    }\n",
       "</style>\n",
       "<table border=\"1\" class=\"dataframe\">\n",
       "  <thead>\n",
       "    <tr style=\"text-align: right;\">\n",
       "      <th></th>\n",
       "      <th>count</th>\n",
       "      <th>mean</th>\n",
       "      <th>std</th>\n",
       "      <th>min</th>\n",
       "      <th>25%</th>\n",
       "      <th>50%</th>\n",
       "      <th>75%</th>\n",
       "      <th>max</th>\n",
       "    </tr>\n",
       "    <tr>\n",
       "      <th>Measure Name</th>\n",
       "      <th></th>\n",
       "      <th></th>\n",
       "      <th></th>\n",
       "      <th></th>\n",
       "      <th></th>\n",
       "      <th></th>\n",
       "      <th></th>\n",
       "      <th></th>\n",
       "    </tr>\n",
       "  </thead>\n",
       "  <tbody>\n",
       "    <tr>\n",
       "      <th>Acute Myocardial Infarction (AMI) 30-Day Mortality Rate</th>\n",
       "      <td>14817.0000</td>\n",
       "      <td>0.1599</td>\n",
       "      <td>0.1452</td>\n",
       "      <td>0.0068</td>\n",
       "      <td>0.0522</td>\n",
       "      <td>0.1020</td>\n",
       "      <td>0.2246</td>\n",
       "      <td>0.6680</td>\n",
       "    </tr>\n",
       "    <tr>\n",
       "      <th>Death rate for CABG</th>\n",
       "      <td>3102.0000</td>\n",
       "      <td>0.0415</td>\n",
       "      <td>0.0308</td>\n",
       "      <td>0.0016</td>\n",
       "      <td>0.0177</td>\n",
       "      <td>0.0337</td>\n",
       "      <td>0.0560</td>\n",
       "      <td>0.1750</td>\n",
       "    </tr>\n",
       "    <tr>\n",
       "      <th>Death rate for chronic obstructive pulmonary disease (COPD) patients</th>\n",
       "      <td>21738.0000</td>\n",
       "      <td>0.0833</td>\n",
       "      <td>0.0751</td>\n",
       "      <td>0.0028</td>\n",
       "      <td>0.0275</td>\n",
       "      <td>0.0536</td>\n",
       "      <td>0.1177</td>\n",
       "      <td>0.3640</td>\n",
       "    </tr>\n",
       "    <tr>\n",
       "      <th>Death rate for stroke patients</th>\n",
       "      <td>16593.0000</td>\n",
       "      <td>0.1848</td>\n",
       "      <td>0.1613</td>\n",
       "      <td>0.0070</td>\n",
       "      <td>0.0594</td>\n",
       "      <td>0.1179</td>\n",
       "      <td>0.2740</td>\n",
       "      <td>0.7000</td>\n",
       "    </tr>\n",
       "    <tr>\n",
       "      <th>Deaths among Patients with Serious Treatable Complications after Surgery</th>\n",
       "      <td>7515.0000</td>\n",
       "      <td>0.5244</td>\n",
       "      <td>0.2329</td>\n",
       "      <td>0.1132</td>\n",
       "      <td>0.3159</td>\n",
       "      <td>0.4935</td>\n",
       "      <td>0.7134</td>\n",
       "      <td>0.9997</td>\n",
       "    </tr>\n",
       "    <tr>\n",
       "      <th>Heart failure (HF) 30-Day Mortality Rate</th>\n",
       "      <td>22275.0000</td>\n",
       "      <td>0.1217</td>\n",
       "      <td>0.1201</td>\n",
       "      <td>0.0033</td>\n",
       "      <td>0.0319</td>\n",
       "      <td>0.0719</td>\n",
       "      <td>0.1762</td>\n",
       "      <td>0.6360</td>\n",
       "    </tr>\n",
       "    <tr>\n",
       "      <th>Pneumonia (PN) 30-Day Mortality Rate</th>\n",
       "      <td>24942.0000</td>\n",
       "      <td>0.1159</td>\n",
       "      <td>0.1169</td>\n",
       "      <td>0.0044</td>\n",
       "      <td>0.0355</td>\n",
       "      <td>0.0717</td>\n",
       "      <td>0.1505</td>\n",
       "      <td>0.7520</td>\n",
       "    </tr>\n",
       "  </tbody>\n",
       "</table>\n",
       "</div>"
      ],
      "text/plain": [
       "                                                        count   mean    std  \\\n",
       "Measure Name                                                                  \n",
       "Acute Myocardial Infarction (AMI) 30-Day Mortal... 14817.0000 0.1599 0.1452   \n",
       "Death rate for CABG                                 3102.0000 0.0415 0.0308   \n",
       "Death rate for chronic obstructive pulmonary di... 21738.0000 0.0833 0.0751   \n",
       "Death rate for stroke patients                     16593.0000 0.1848 0.1613   \n",
       "Deaths among Patients with Serious Treatable Co...  7515.0000 0.5244 0.2329   \n",
       "Heart failure (HF) 30-Day Mortality Rate           22275.0000 0.1217 0.1201   \n",
       "Pneumonia (PN) 30-Day Mortality Rate               24942.0000 0.1159 0.1169   \n",
       "\n",
       "                                                      min    25%    50%  \\\n",
       "Measure Name                                                              \n",
       "Acute Myocardial Infarction (AMI) 30-Day Mortal... 0.0068 0.0522 0.1020   \n",
       "Death rate for CABG                                0.0016 0.0177 0.0337   \n",
       "Death rate for chronic obstructive pulmonary di... 0.0028 0.0275 0.0536   \n",
       "Death rate for stroke patients                     0.0070 0.0594 0.1179   \n",
       "Deaths among Patients with Serious Treatable Co... 0.1132 0.3159 0.4935   \n",
       "Heart failure (HF) 30-Day Mortality Rate           0.0033 0.0319 0.0719   \n",
       "Pneumonia (PN) 30-Day Mortality Rate               0.0044 0.0355 0.0717   \n",
       "\n",
       "                                                      75%    max  \n",
       "Measure Name                                                      \n",
       "Acute Myocardial Infarction (AMI) 30-Day Mortal... 0.2246 0.6680  \n",
       "Death rate for CABG                                0.0560 0.1750  \n",
       "Death rate for chronic obstructive pulmonary di... 0.1177 0.3640  \n",
       "Death rate for stroke patients                     0.2740 0.7000  \n",
       "Deaths among Patients with Serious Treatable Co... 0.7134 0.9997  \n",
       "Heart failure (HF) 30-Day Mortality Rate           0.1762 0.6360  \n",
       "Pneumonia (PN) 30-Day Mortality Rate               0.1505 0.7520  "
      ]
     },
     "execution_count": 18,
     "metadata": {},
     "output_type": "execute_result"
    }
   ],
   "source": [
    "newDF.groupby('Measure Name')['Ratio'].describe()"
   ]
  },
  {
   "cell_type": "markdown",
   "metadata": {},
   "source": [
    "## Visualizing the Data :"
   ]
  },
  {
   "cell_type": "markdown",
   "metadata": {},
   "source": [
    "It is always better to Visualize the data because, people understand visuals easily and hence the mean of Ratio's for different **'Deathly Complications'** is plotted as a bar graph. From this, it can be seen clearly that the **'Deaths among Patients with Serious Treatable Complications after Surgery'** has the highest average ratio."
   ]
  },
  {
   "cell_type": "code",
   "execution_count": 19,
   "metadata": {},
   "outputs": [
    {
     "data": {
      "text/plain": [
       "<matplotlib.axes._subplots.AxesSubplot at 0x10e386080>"
      ]
     },
     "execution_count": 19,
     "metadata": {},
     "output_type": "execute_result"
    },
    {
     "data": {
      "image/png": "[encoded data removed]",
      "text/plain": [
       "<matplotlib.figure.Figure at 0x10cb5c780>"
      ]
     },
     "metadata": {},
     "output_type": "display_data"
    }
   ],
   "source": [
    "newDF.groupby('Measure Name')['Ratio'].mean().plot.bar()"
   ]
  },
  {
   "cell_type": "markdown",
   "metadata": {},
   "source": [
    "## Data Aggregation :\n",
    "\n",
    "Here, the data is aggregated using the .agg function on the newly created dataframe. We use the agg() to display the sum,mean and count of the Deathly complications based on their **Ratio(Score/Denominator)**."
   ]
  },
  {
   "cell_type": "code",
   "execution_count": 20,
   "metadata": {},
   "outputs": [
    {
     "data": {
      "text/html": [
       "<div>\n",
       "<style>\n",
       "    .dataframe thead tr:only-child th {\n",
       "        text-align: right;\n",
       "    }\n",
       "\n",
       "    .dataframe thead th {\n",
       "        text-align: left;\n",
       "    }\n",
       "\n",
       "    .dataframe tbody tr th {\n",
       "        vertical-align: top;\n",
       "    }\n",
       "</style>\n",
       "<table border=\"1\" class=\"dataframe\">\n",
       "  <thead>\n",
       "    <tr>\n",
       "      <th></th>\n",
       "      <th colspan=\"3\" halign=\"left\">Ratio</th>\n",
       "    </tr>\n",
       "    <tr>\n",
       "      <th></th>\n",
       "      <th>sum</th>\n",
       "      <th>mean</th>\n",
       "      <th>count</th>\n",
       "    </tr>\n",
       "    <tr>\n",
       "      <th>Measure Name</th>\n",
       "      <th></th>\n",
       "      <th></th>\n",
       "      <th></th>\n",
       "    </tr>\n",
       "  </thead>\n",
       "  <tbody>\n",
       "    <tr>\n",
       "      <th>Acute Myocardial Infarction (AMI) 30-Day Mortality Rate</th>\n",
       "      <td>2368.8504</td>\n",
       "      <td>0.1599</td>\n",
       "      <td>14817</td>\n",
       "    </tr>\n",
       "    <tr>\n",
       "      <th>Death rate for CABG</th>\n",
       "      <td>128.7628</td>\n",
       "      <td>0.0415</td>\n",
       "      <td>3102</td>\n",
       "    </tr>\n",
       "    <tr>\n",
       "      <th>Death rate for chronic obstructive pulmonary disease (COPD) patients</th>\n",
       "      <td>1811.6615</td>\n",
       "      <td>0.0833</td>\n",
       "      <td>21738</td>\n",
       "    </tr>\n",
       "    <tr>\n",
       "      <th>Death rate for stroke patients</th>\n",
       "      <td>3065.6770</td>\n",
       "      <td>0.1848</td>\n",
       "      <td>16593</td>\n",
       "    </tr>\n",
       "    <tr>\n",
       "      <th>Deaths among Patients with Serious Treatable Complications after Surgery</th>\n",
       "      <td>3940.9193</td>\n",
       "      <td>0.5244</td>\n",
       "      <td>7515</td>\n",
       "    </tr>\n",
       "    <tr>\n",
       "      <th>Heart failure (HF) 30-Day Mortality Rate</th>\n",
       "      <td>2711.3264</td>\n",
       "      <td>0.1217</td>\n",
       "      <td>22275</td>\n",
       "    </tr>\n",
       "    <tr>\n",
       "      <th>Pneumonia (PN) 30-Day Mortality Rate</th>\n",
       "      <td>2889.6519</td>\n",
       "      <td>0.1159</td>\n",
       "      <td>24942</td>\n",
       "    </tr>\n",
       "  </tbody>\n",
       "</table>\n",
       "</div>"
      ],
      "text/plain": [
       "                                                       Ratio              \n",
       "                                                         sum   mean  count\n",
       "Measure Name                                                              \n",
       "Acute Myocardial Infarction (AMI) 30-Day Mortal... 2368.8504 0.1599  14817\n",
       "Death rate for CABG                                 128.7628 0.0415   3102\n",
       "Death rate for chronic obstructive pulmonary di... 1811.6615 0.0833  21738\n",
       "Death rate for stroke patients                     3065.6770 0.1848  16593\n",
       "Deaths among Patients with Serious Treatable Co... 3940.9193 0.5244   7515\n",
       "Heart failure (HF) 30-Day Mortality Rate           2711.3264 0.1217  22275\n",
       "Pneumonia (PN) 30-Day Mortality Rate               2889.6519 0.1159  24942"
      ]
     },
     "execution_count": 20,
     "metadata": {},
     "output_type": "execute_result"
    }
   ],
   "source": [
    "newDF.groupby('Measure Name').agg({'Ratio':['sum','mean','count']})"
   ]
  },
  {
   "cell_type": "markdown",
   "metadata": {},
   "source": [
    "It is always better to Visualize the data because, people understand visuals easily and hence the mean of Ratio's for different **'Deathly Complications'** is plotted as a bar graph. From this, it can be seen clearly that the **'Deaths among Patients with Serious Treatable Complications after Surgery'** has the highest total ratio."
   ]
  },
  {
   "cell_type": "code",
   "execution_count": 21,
   "metadata": {},
   "outputs": [
    {
     "data": {
      "text/plain": [
       "<matplotlib.axes._subplots.AxesSubplot at 0x10e298390>"
      ]
     },
     "execution_count": 21,
     "metadata": {},
     "output_type": "execute_result"
    },
    {
     "data": {
      "image/png": "[encoded data removed]",
      "text/plain": [
       "<matplotlib.figure.Figure at 0x10e5375c0>"
      ]
     },
     "metadata": {},
     "output_type": "display_data"
    }
   ],
   "source": [
    "newDF.groupby('Measure Name')['Ratio'].sum().plot.bar()"
   ]
  },
  {
   "cell_type": "markdown",
   "metadata": {},
   "source": [
    "## Sort by 'Ratio' :\n",
    "\n",
    "Finally, the dataframe is sorted based on the **'Ratio'** of the number of complications and the number of underlying medical procedures **(Score/Denominator)**.  \n",
    "\n",
    "**Note : It is assumed that the sorting needs to be done for the **'Ratio'** of the entire dataframe and not on the grouped values of the Measure Names(mean or sum).**\n",
    "\n",
    "For grouped values, the following code could be used for sorting based on the sum() and mean() values of the grouped elements\n",
    "\n",
    "**newDF.groupby('Measure Name')['Ratio'].mean().sort_values(ascending=False)**\n",
    "\n",
    "**newDF.groupby('Measure Name')['Ratio'].sum().sort_values(ascending=False)**"
   ]
  },
  {
   "cell_type": "code",
   "execution_count": 22,
   "metadata": {
    "collapsed": true
   },
   "outputs": [],
   "source": [
    "newDF = newDF.sort_values(by='Ratio',ascending=False)"
   ]
  },
  {
   "cell_type": "markdown",
   "metadata": {
    "ExecuteTime": {
     "end_time": "2018-02-09T01:37:40.834697Z",
     "start_time": "2018-02-09T01:37:40.831044Z"
    }
   },
   "source": [
    "# Identify the five safest hospitals"
   ]
  },
  {
   "cell_type": "markdown",
   "metadata": {},
   "source": [
    "Return a **list** with the hospitals that have, on average, the lowest rate of deadly complications. **Be careful when you identify 'deathly' complications.** (Again, ignore that the dataset covers multiple years)."
   ]
  },
  {
   "cell_type": "markdown",
   "metadata": {},
   "source": [
    "## Top 5 Safest Hospitals :\n",
    "\n",
    "The average is found for the 'Ratio' found based on the 'Hospitals'.\n",
    "From these, the smallest values are considered to be the safest hospitals.\n",
    "\n",
    "** Note - The rate of 'deathly complications' is assumed here to be the 'Ratio' between Score and Denominator calculated above.**"
   ]
  },
  {
   "cell_type": "code",
   "execution_count": 23,
   "metadata": {},
   "outputs": [
    {
     "data": {
      "text/plain": [
       "Hospital Name\n",
       "UNIVERITY OF MD BALTO WASHINGTON  MEDICAL CENTER   0.0206\n",
       "NEW YORK-PRESBYTERIAN HOSPITAL                     0.0220\n",
       "NORTON HOSPITALS, INC                              0.0226\n",
       "SAN JUAN VA MEDICAL CENTER                         0.0240\n",
       "FLORIDA HOSPITAL                                   0.0256\n",
       "Name: Ratio, dtype: float64"
      ]
     },
     "execution_count": 23,
     "metadata": {},
     "output_type": "execute_result"
    }
   ],
   "source": [
    "newDF.groupby('Hospital Name')['Ratio'].mean().nsmallest(5)"
   ]
  },
  {
   "cell_type": "markdown",
   "metadata": {
    "ExecuteTime": {
     "end_time": "2018-02-09T01:54:20.635175Z",
     "start_time": "2018-02-09T01:54:20.626192Z"
    }
   },
   "source": [
    "# Augment the datset with information about the state"
   ]
  },
  {
   "cell_type": "markdown",
   "metadata": {
    "ExecuteTime": {
     "end_time": "2018-02-09T01:55:10.296708Z",
     "start_time": "2018-02-09T01:55:10.285834Z"
    }
   },
   "source": [
    "Read the file `geo-data.csv` into an object `zip_codes`. **Make sure that you read all columns as string.** ([Link](https://github.com/scpike/us-state-county-zip))"
   ]
  },
  {
   "cell_type": "code",
   "execution_count": 24,
   "metadata": {},
   "outputs": [],
   "source": [
    "zip_codes = pd.read_csv('geo-data.csv', dtype=str).rename(columns=lambda x: x.strip())"
   ]
  },
  {
   "cell_type": "markdown",
   "metadata": {},
   "source": [
    "This file contains information about the relationship of zip codes, counties, and U.S. states. "
   ]
  },
  {
   "cell_type": "markdown",
   "metadata": {},
   "source": [
    "1. Combine the dataset on complications with the dateset on zip codes.\n",
    "2. Explain why you chose the column that used to combine the datasets.\n",
    "3. **Do not worry, not all states will be matched.**"
   ]
  },
  {
   "cell_type": "markdown",
   "metadata": {},
   "source": [
    "## Merging the Dataframes :\n",
    "\n",
    "The Dataframes need to be merged together. This merge can be done in two possible ways, either on the County Name or on the ZIP Code. Here, ZIP Code is chosen as the merge column, because in both the dataframes, Zip codes are numbers but in string format and can be used to merge, whereas the County names in the cd dataframe are with First letter captial and rest are small and in the Zip_Code dataframe, the county names are in all capitals, so there must be a conversion before the comparision can actually be made. "
   ]
  },
  {
   "cell_type": "code",
   "execution_count": 25,
   "metadata": {},
   "outputs": [],
   "source": [
    "zip_codes.rename(columns={'zipcode':'ZIP Code'}, inplace = True)"
   ]
  },
  {
   "cell_type": "markdown",
   "metadata": {},
   "source": [
    "For the merge to take place, the column name of both the dataframes on which the merge is to take place needs to be similar.\n",
    "\n",
    "The Dataframes merged are stored in a new Dataframe called 'new3'.\n",
    "\n",
    "First, the newDF and zip_codes dataframes need to be merged and the merge() function available in Pandas is used to achieve this and 'left' join is used to merge these dataframes because we need to match all the values of the zip_codes dataframe to the values of deathly complications."
   ]
  },
  {
   "cell_type": "code",
   "execution_count": 26,
   "metadata": {
    "collapsed": true
   },
   "outputs": [],
   "source": [
    "new3 = pd.merge(newDF,zip_codes,on='ZIP Code',how='left')"
   ]
  },
  {
   "cell_type": "markdown",
   "metadata": {
    "ExecuteTime": {
     "end_time": "2018-02-09T02:01:36.232035Z",
     "start_time": "2018-02-09T02:01:36.225785Z"
    }
   },
   "source": [
    "# Create an overview of the complications per U.S. state"
   ]
  },
  {
   "cell_type": "markdown",
   "metadata": {},
   "source": [
    "* Return a sorted list with the overall complication rate per state. \n",
    "* Ignore that the data is for multiple years. \n",
    "* Focus on the **best** ten states."
   ]
  },
  {
   "cell_type": "markdown",
   "metadata": {},
   "source": [
    "The states with the lowest overall complication rate could be found using the **sum()** of all the **'Ratio'** values grouped by the respective states and is as follows."
   ]
  },
  {
   "cell_type": "code",
   "execution_count": 27,
   "metadata": {},
   "outputs": [
    {
     "data": {
      "text/plain": [
       "state\n",
       "Delaware                18.1198\n",
       "District of columbia    26.1058\n",
       "Hawaii                  65.2985\n",
       "Alaska                  66.0765\n",
       "Wyoming                 94.2385\n",
       "Maryland               107.0787\n",
       "North dakota           116.3674\n",
       "Idaho                  122.4943\n",
       "Nevada                 128.6266\n",
       "South dakota           133.6957\n",
       "Name: Ratio, dtype: float64"
      ]
     },
     "execution_count": 27,
     "metadata": {},
     "output_type": "execute_result"
    }
   ],
   "source": [
    "new3.groupby('state')['Ratio'].sum().nsmallest(10)"
   ]
  },
  {
   "cell_type": "markdown",
   "metadata": {},
   "source": [
    "# Create an overview of the change in complications across U.S. states"
   ]
  },
  {
   "cell_type": "markdown",
   "metadata": {},
   "source": [
    "* Focus on the deadly complications only.\n",
    "* Calculate the change as follows: **(average rate for last year in dataset - average rate for first year in dataset)/(average rate for first year in dataset)**"
   ]
  },
  {
   "cell_type": "markdown",
   "metadata": {},
   "source": [
    "### Overview of the Dataframe :\n",
    "\n",
    "Here, we need to focus on the deathly complications alone, so the Dataframe new3, which already has data related to the deathly complications and also has the state information as stated above, is used. \n",
    "\n"
   ]
  },
  {
   "cell_type": "markdown",
   "metadata": {},
   "source": [
    "**Which state has improved the most?**"
   ]
  },
  {
   "cell_type": "markdown",
   "metadata": {},
   "source": [
    "According to the Formula given above, we could use the **average 'Ratio'** of deathly complications based on each state for the first and last years to arrive at which state has improved the most. Since the average is supposed to be mean of the 'Ratio' values, we use the mean() function.\n",
    "\n",
    "Here, we know based on the **'Year'** column of the Dataframe, the minimum and maximum values are **2011 and 2016** respectively.\n",
    "\n",
    "So, here either the year could be har coded to find the values or it could be found using the **min() and max()** functions to find the first and last year automatically."
   ]
  },
  {
   "cell_type": "code",
   "execution_count": 176,
   "metadata": {},
   "outputs": [
    {
     "data": {
      "text/plain": [
       "state\n",
       "Delaware   -0.1874\n",
       "Name: Ratio, dtype: float64"
      ]
     },
     "execution_count": 176,
     "metadata": {},
     "output_type": "execute_result"
    }
   ],
   "source": [
    "((new3[new3 ['Year'] == '2016'].groupby('state')['Ratio'].mean() - new3[new3 ['Year'] == '2011'].groupby('state')['Ratio'].mean())/(new3[new3 ['Year'] == '2011'].groupby('state')['Ratio'].mean())).nsmallest(1)"
   ]
  },
  {
   "cell_type": "code",
   "execution_count": 182,
   "metadata": {},
   "outputs": [
    {
     "data": {
      "text/plain": [
       "state\n",
       "Delaware   -0.1874\n",
       "Name: Ratio, dtype: float64"
      ]
     },
     "execution_count": 182,
     "metadata": {},
     "output_type": "execute_result"
    }
   ],
   "source": [
    "((new3[new3 ['Year'] == new3['Year'].max()].groupby('state')['Ratio'].mean() - new3[new3['Year'] == new3['Year'].min()].groupby('state')['Ratio'].mean())/(new3[new3['Year'] == new3 ['Year'].min()].groupby('state')['Ratio'].mean())).nsmallest(1)"
   ]
  },
  {
   "cell_type": "markdown",
   "metadata": {},
   "source": [
    "**Which state has the worst development?**\n",
    "\n",
    "According to the Formula given above, we could use the **average 'Ratio'** of deathly complications based on each state for the first and last years to arrive at which state has improved the worst. Since the average is supposed to be mean of the 'Ratio' values, we use the mean() function.\n",
    "\n",
    "Here, we know based on the **'Year'** column of the Dataframe, the minimum and maximum values are **2011 and 2016** respectively."
   ]
  },
  {
   "cell_type": "code",
   "execution_count": 28,
   "metadata": {},
   "outputs": [
    {
     "data": {
      "text/plain": [
       "state\n",
       "Wyoming   0.1061\n",
       "Name: Ratio, dtype: float64"
      ]
     },
     "execution_count": 28,
     "metadata": {},
     "output_type": "execute_result"
    }
   ],
   "source": [
    "((new3[new3 ['Year'] == new3['Year'].max()].groupby('state')['Ratio'].mean() - new3[new3 ['Year'] == new3['Year'].min()].groupby('state')['Ratio'].mean())/(new3[new3 ['Year'] == new3['Year'].min()].groupby('state')['Ratio'].mean())).nlargest(1)"
   ]
  },
  {
   "cell_type": "markdown",
   "metadata": {
    "ExecuteTime": {
     "end_time": "2018-02-09T02:30:33.122083Z",
     "start_time": "2018-02-09T02:30:33.116370Z"
    }
   },
   "source": [
    "# Bonus"
   ]
  },
  {
   "cell_type": "markdown",
   "metadata": {},
   "source": [
    "** Which state has the worst development for 'Deaths among Patients with Serious Treatable Complications after Surgery'? **"
   ]
  },
  {
   "cell_type": "markdown",
   "metadata": {},
   "source": [
    "Here, the dataframe which already has only the values of 'deathly complications' is to be used. Now, since the worst development for 'Deaths among Patients with Serious Treatable Complications after Surgery' is to be calculated, the dataframe could be filtered based on this Measure Name and the values could be stored in a New Dataframe for better understanding. \n",
    "\n",
    "The new Dataframe new4 consists of 'Deaths among Patients with Serious Treatable Complications after Surgery' alone, using the first and last year found using the **max() and min()** functions(because, unlike the previous problem, the first and last years are different here) and using the same formula as above with the **mean()** of these values, the Worst Development for the measure can be calculated. The nlargest() function will give the largest value which is the state with the Worst Development of the give Measure Name. \n",
    "\n",
    "** Note - Here, a creating a new Dataframe reduces the complexity and improves the understandability of the code as the code for formula is long**"
   ]
  },
  {
   "cell_type": "code",
   "execution_count": 161,
   "metadata": {
    "collapsed": true
   },
   "outputs": [],
   "source": [
    "searchStr = 'Deaths among Patients with Serious Treatable Complications after Surgery'"
   ]
  },
  {
   "cell_type": "code",
   "execution_count": 167,
   "metadata": {
    "collapsed": true
   },
   "outputs": [],
   "source": [
    "new4 = new3[new3['Measure Name'] == searchStr]"
   ]
  },
  {
   "cell_type": "code",
   "execution_count": 184,
   "metadata": {},
   "outputs": [
    {
     "data": {
      "text/plain": [
       "state\n",
       "Utah   0.2155\n",
       "Name: Ratio, dtype: float64"
      ]
     },
     "execution_count": 184,
     "metadata": {},
     "output_type": "execute_result"
    }
   ],
   "source": [
    "((new4[new4 ['Year'] == new4['Year'].max()].groupby('state')['Ratio'].mean() - new4[new4 ['Year'] == new4['Year'].min()].groupby('state')['Ratio'].mean())/(new4[new4 ['Year'] == new4['Year'].min()].groupby('state')['Ratio'].mean())).nlargest(1)\n"
   ]
  }
 ],
 "metadata": {
  "kernelspec": {
   "display_name": "Python 3",
   "language": "python",
   "name": "python3"
  },
  "language_info": {
   "codemirror_mode": {
    "name": "ipython",
    "version": 3
   },
   "file_extension": ".py",
   "mimetype": "text/x-python",
   "name": "python",
   "nbconvert_exporter": "python",
   "pygments_lexer": "ipython3",
   "version": "3.6.2"
  },
  "toc": {
   "nav_menu": {},
   "number_sections": true,
   "sideBar": true,
   "skip_h1_title": false,
   "title_cell": "Table of Contents",
   "title_sidebar": "Contents",
   "toc_cell": false,
   "toc_position": {},
   "toc_section_display": true,
   "toc_window_display": false
  },
  "varInspector": {
   "cols": {
    "lenName": 16,
    "lenType": 16,
    "lenVar": 40
   },
   "kernels_config": {
    "python": {
     "delete_cmd_postfix": "",
     "delete_cmd_prefix": "del ",
     "library": "var_list.py",
     "varRefreshCmd": "print(var_dic_list())"
    },
    "r": {
     "delete_cmd_postfix": ") ",
     "delete_cmd_prefix": "rm(",
     "library": "var_list.r",
     "varRefreshCmd": "cat(var_dic_list()) "
    }
   },
   "types_to_exclude": [
    "module",
    "function",
    "builtin_function_or_method",
    "instance",
    "_Feature"
   ],
   "window_display": false
  }
 },
 "nbformat": 4,
 "nbformat_minor": 2
}
