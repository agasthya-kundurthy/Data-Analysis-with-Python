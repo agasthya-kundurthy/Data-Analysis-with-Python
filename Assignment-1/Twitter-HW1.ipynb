{
 "cells": [
  {
   "cell_type": "markdown",
   "metadata": {
    "collapsed": true
   },
   "source": [
    "# Assignment - 1"
   ]
  },
  {
   "cell_type": "markdown",
   "metadata": {},
   "source": [
    "## A Simple Sentiment Analysis of Tweets\n",
    "A simple Sentiment Analysis is to performed to understand the data obtained(tweets) from twitter based on a trending topic.\n",
    "\n",
    "Many people use Twitter as a platform to share and comment on their views about any topic. So, twitter is chosen to gather data.\n",
    "\n",
    "The trending topic chosen here is 'snowday' as snowfall has started in many places all over the world due to the start of winter. \n",
    "\n",
    "## Accomplished Tasks:\n",
    "* Worked with and configured access to a Twitter API.\n",
    "* Identified a trending topic on Twitter - 'snowday'.\n",
    "* Lists of stop words, positive words, and negative words were obtained from Github.\n",
    "* A ratio of the positive and negative words has been arrived at to understand the data.\n",
    "\n",
    "## Questions Answered:\n",
    "* What is the ratio of positive to negative words on your trending topic?\n",
    "* What is your interpretation of the ratio?\n",
    "* What is the managerial insight that you could offer based on your results?\n"
   ]
  },
  {
   "cell_type": "markdown",
   "metadata": {},
   "source": [
    "## Approach taken to arrive at the solution\n",
    "\n",
    "* A Twitter API was used to obtain data from Twitter by writing the code in a config file and running it in the terminal. This code consists of Consumer and Access Keys available via the Twitter Developer platform to connect and get data from Twitter.\n",
    "\n",
    "* The file is run and the output JSON of the file is stored in a text file. Then, the text file loaded is read, the content is stored as a list of words. These words are compared with an existing list sets of positive, negative and stop words.\n",
    "\n",
    "* Two integers maintain the occurrences of positive and negative words, a ratio is arrived at based on these counts.\n",
    "\n"
   ]
  },
  {
   "cell_type": "code",
   "execution_count": 6,
   "metadata": {
    "collapsed": true
   },
   "outputs": [],
   "source": [
    "# To generate multiple outputs\n",
    "from IPython.core.interactiveshell import InteractiveShell\n",
    "InteractiveShell.ast_node_interactivity = \"all\""
   ]
  },
  {
   "cell_type": "markdown",
   "metadata": {},
   "source": [
    "### The Data generated is a JSON format, and so it needs to be read and the tweets are stored in a list."
   ]
  },
  {
   "cell_type": "code",
   "execution_count": 46,
   "metadata": {
    "collapsed": true
   },
   "outputs": [],
   "source": [
    "import json"
   ]
  },
  {
   "cell_type": "markdown",
   "metadata": {},
   "source": [
    "The data has been obtained from Twitter using a code available online (http://adilmoujahid.com/posts/2014/07/twitter-analytics/).\n",
    "\n",
    "The code is run from the terminal of my system to get the Data. This option was used because when the APIs code is run here in the notebook, due to a lot of continuous streaming of data, the notebook gets stuck sometimes.\n",
    "\n",
    "This code can be found in the .py file\n",
    "\n",
    "#Import the necessary methods from tweepy library\n",
    "\n",
    "from tweepy.streaming import StreamListener\n",
    "from tweepy import OAuthHandler\n",
    "from tweepy import Stream\n",
    "\n",
    "* Variables that contains the user credentials to access Twitter API\n",
    "\n",
    "access_token = \"ENTER YOUR ACCESS TOKEN\"\n",
    "\n",
    "access_token_secret = \"ENTER YOUR ACCESS TOKEN SECRET\"\n",
    "\n",
    "consumer_key = \"ENTER YOUR API KEY\"\n",
    "\n",
    "consumer_secret = \"ENTER YOUR API SECRET\"\n",
    "\n",
    "* These variable values can be obtained from a Twitter Developer account by creating a new application and they are not made public to restrict unwanted access.\n",
    "\n",
    "* Following code is used to stream the data from Twitter.\n",
    "#This is a basic listener that just prints received tweets to stdout.\n",
    "class StdOutListener(StreamListener):\n",
    "\n",
    "    def on_data(self, data):\n",
    "        print data\n",
    "        return True\n",
    "\n",
    "    def on_error(self, status):\n",
    "        print status\n",
    "\n",
    "\n",
    "if __name__ == '__main__':\n",
    "\n",
    "    #This handles Twitter authetification and the connection to Twitter Streaming API\n",
    "    l = StdOutListener()\n",
    "    auth = OAuthHandler(consumer_key, consumer_secret)\n",
    "    auth.set_access_token(access_token, access_token_secret)\n",
    "    stream = Stream(auth, l)\n",
    "\n",
    "    #This line filter Twitter Streams to capture data by the keywords: 'snowday'\n",
    "    stream.filter(track=['snowday'])\n"
   ]
  },
  {
   "cell_type": "markdown",
   "metadata": {},
   "source": [
    "The sample data which has been obtained for the Analysis is stored in a .txt file. The format of the contents in the file is JSON and so, there is a need to deserialize the contents to be able to store them into a list. This file is opened and the elements are deserialized to store in a list. \n",
    "\n",
    "The file is opened using the open function which takes the location of the file and the mode in which to open the file, here the location of the file is given as its name because it is in the present working directory, or else, the full path of the file needs to be given."
   ]
  },
  {
   "cell_type": "code",
   "execution_count": 183,
   "metadata": {},
   "outputs": [],
   "source": [
    "#Read the sample-data text file which has the contents and store the tweets data(JSON format) into a list.\n",
    "tweets_data = []\n",
    "f = open('sample-data.txt', 'r')\n",
    "for line in f:\n",
    "    try:\n",
    "        tweet = json.loads(line) #JSON elements are deserialized\n",
    "        tweets_data.append(tweet) #Data elements are appended to the list\n",
    "        \n",
    "    except:\n",
    "        continue        "
   ]
  },
  {
   "cell_type": "markdown",
   "metadata": {},
   "source": [
    "The initial data is in a JSON format which consists of an array of key value pairs, from this, for the purpose of sentiment analysis, the 'text' of each element is needed. A new list is created and the 'text' from all the elements in the JSON data is appended into the list. "
   ]
  },
  {
   "cell_type": "code",
   "execution_count": 109,
   "metadata": {
    "collapsed": true
   },
   "outputs": [],
   "source": [
    "tweetsData = []\n",
    "for a in tweets_data: #iterate through the JSON data\n",
    "    if('text' in a):\n",
    "        text = a['text'] #Get the 'text' value of the element, if it has 'text'.\n",
    "        tweetsData.append(text)  #Append it to the list.    "
   ]
  },
  {
   "cell_type": "markdown",
   "metadata": {},
   "source": [
    "To compare the text obtained from the JSON data, a list of negative, positive and stop words are required. The words are stored in their respective .txt files. These files are opened and the words are read into their respective lists. The File is closed after use.\n",
    "\n",
    "\n",
    "These list of words have been taken from various sources online\n",
    "\n",
    "Negative words - https://gist.github.com/mkulakowski2/4289441\n",
    "\n",
    "Positive Words - https://gist.github.com/mkulakowski2/4289437\n",
    "\n",
    "Stop words - https://kb.yoast.com/kb/list-stop-words/\n",
    "\n"
   ]
  },
  {
   "cell_type": "code",
   "execution_count": 173,
   "metadata": {},
   "outputs": [],
   "source": [
    "negative_words = []\n",
    "fileLocation = 'negative-words.txt'\n",
    "file = open(fileLocation, 'r')\n",
    "for word in file:\n",
    "    word = word.strip() #Used to eliminate whitspace characters.\n",
    "    negative_words.append(word)\n",
    "file.close()"
   ]
  },
  {
   "cell_type": "code",
   "execution_count": 174,
   "metadata": {
    "collapsed": true
   },
   "outputs": [],
   "source": [
    "positive_words = []\n",
    "file = open('positive-words.txt', 'r')\n",
    "for word in file:\n",
    "    word = word.strip() #Used to eliminate whitspace characters.\n",
    "    positive_words.append(word)\n",
    "file.close()"
   ]
  },
  {
   "cell_type": "code",
   "execution_count": 175,
   "metadata": {
    "collapsed": true
   },
   "outputs": [],
   "source": [
    "stopwords = []\n",
    "file = open('stopwords.txt', 'r')\n",
    "for word in file:\n",
    "    word = word.strip() #Used to eliminate whitspace characters.\n",
    "    stopwords.append(word)\n",
    "file.close()"
   ]
  },
  {
   "cell_type": "markdown",
   "metadata": {},
   "source": [
    "The tweets text which has been retrieved are in the form of sentences and hence, they are split into words and are stored in a list to compare each and every element of this new list with the existing lists of positive, negative and stop words. "
   ]
  },
  {
   "cell_type": "code",
   "execution_count": 181,
   "metadata": {},
   "outputs": [],
   "source": [
    "tweetsFinal = []\n",
    "for w in tweetsData:\n",
    "    for word in w.split(): #To split the sentence into words and remove any whitespaces.\n",
    "        tweetsFinal.append(word) #appends the words the new list.    "
   ]
  },
  {
   "cell_type": "markdown",
   "metadata": {},
   "source": [
    "The tweets have been spit into words and have been stored in a list. So, now, the list of words is iterated to find a match with the exisitng list of positive, negative and stop words. A counter for positive and negative words in maintained so that the total number of positive and negative words can be counted respectively.\n",
    "\n",
    "Here, a function tweetCount() handles all the processing, checking and counting of the positive and negative words. Since, a function is used, the variables for counting have to be either passed as a parameter or the 'global' keyword is to be used as the function creates a local variable when we increment the value of the positive and negative count variables and assign it to the actual counter and this might affect the output. \n",
    "\n",
    "A function call is used to call the tweetCount() function and it starts processing the count."
   ]
  },
  {
   "cell_type": "code",
   "execution_count": 179,
   "metadata": {},
   "outputs": [],
   "source": [
    "count_negative = 0\n",
    "count_positive = 0\n",
    "def tweetCount():\n",
    "    global count_positive\n",
    "    global count_negative\n",
    "    for word in tweetsFinal:\n",
    "            if word in stopwords:\n",
    "                continue\n",
    "            elif word in positive_words:\n",
    "                  count_positive = count_positive + 1\n",
    "            elif word in negative_words:\n",
    "                  count_negative = count_negative + 1\n",
    "                \n",
    "tweetCount()                "
   ]
  },
  {
   "cell_type": "markdown",
   "metadata": {},
   "source": [
    "Now that the counts for the positive and negative words have been obtained, the ratio can be calculated by dividing the positive by negative count."
   ]
  },
  {
   "cell_type": "code",
   "execution_count": 180,
   "metadata": {},
   "outputs": [
    {
     "name": "stdout",
     "output_type": "stream",
     "text": [
      "Total Positive Words -  12944\n",
      "Total Negative Words -  10722\n",
      "Ratio of Positive to Negative words is -  1.2072374556985637\n"
     ]
    }
   ],
   "source": [
    "print('Total Positive Words - ',count_positive)\n",
    "print('Total Negative Words - ',count_negative)   \n",
    "ratio = count_positive/count_negative\n",
    "print('Ratio of Positive to Negative words is - ', ratio)"
   ]
  },
  {
   "cell_type": "markdown",
   "metadata": {},
   "source": [
    "## Insights\n",
    "\n",
    "The ratio that we are getting shows that overall there is a positive feel towards the start of snowfall all over the world. The positive feel could be attributed to the fact that people tend to enjoy when there is a light snow fall. The climate is welcoming and people generally are attracted towards rain and snow. It makes them want to experience a warm and cozy feel in their homes. Whether it is children or adults, both generally have the tendency to play with the snow and enjoy. And who wouldn't want to enjoy a hot cup of coffee on a cold morning!\n",
    "\n",
    "People like snowfall for different reasons, Although the positive feel is on the higher side, the Negative feel is also considerably high maybe because of higher snowfall in certain places and snowfall impacting the daily life of people living at those places, higher snowfall could mean that people can't go outside of their homes due to unbearable conditions and possible frost bites. And change of weather in places generally comes with the higher risks of flu spreading in a region. \n",
    "\n",
    "Further Analysis on a bigger Dataset and using a sentiment Analysis tool could be more helpful to arrive at better insights.\n"
   ]
  },
  {
   "cell_type": "markdown",
   "metadata": {},
   "source": [
    "## Future Roadmap\n",
    "\n",
    "#### Use of APIs\n",
    "The sentiment Analysis done here does not use any APIs that are available for free use. If these APIs were used, the prediction of sentiment towards a topic could be even better. It would be interesting to see the workings of such APIs and using them would dramatically decrease the run time of the program. Use of multiple for loops could be avoided.\n",
    "\n",
    "#### Bigger Data set and region wise comparison, better Insights!\n",
    "Also, the data taken here is of small size, a bigger data set would be required to perform a better sentiment analysis of the data. A country or state wise graph could be possible based on a larger dataset, this would help us compare the sentiments of tweets from a particular region and a clearer relationship could be formed with the temperature of the region in consideration which could lead to having better insights and probably a different ratio than the current ratio.\n",
    "\n"
   ]
  },
  {
   "cell_type": "markdown",
   "metadata": {},
   "source": [
    "## References:\n",
    "\n",
    "* Data\n",
    "\n",
    "     Negative words - https://gist.github.com/mkulakowski2/4289441\n",
    "\n",
    "     Positive Words - https://gist.github.com/mkulakowski2/4289437\n",
    "\n",
    "     Stop words - https://kb.yoast.com/kb/list-stop-words/\n",
    "     \n",
    "\n",
    "* API Code\n",
    "\n",
    "      http://adilmoujahid.com/posts/2014/07/twitter-analytics/\n",
    "\n",
    "* Trending Topics\n",
    "\n",
    "      https://trends24.in/united-states/\n",
    "\n",
    "\n",
    "\n",
    "\n",
    "\n"
   ]
  }
 ],
 "metadata": {
  "kernelspec": {
   "display_name": "Python 3",
   "language": "python",
   "name": "python3"
  },
  "language_info": {
   "codemirror_mode": {
    "name": "ipython",
    "version": 3
   },
   "file_extension": ".py",
   "mimetype": "text/x-python",
   "name": "python",
   "nbconvert_exporter": "python",
   "pygments_lexer": "ipython3",
   "version": "3.6.2"
  }
 },
 "nbformat": 4,
 "nbformat_minor": 2
}
