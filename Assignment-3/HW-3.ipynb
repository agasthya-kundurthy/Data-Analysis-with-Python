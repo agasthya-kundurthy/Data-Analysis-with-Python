{
 "cells": [
  {
   "cell_type": "markdown",
   "metadata": {},
   "source": [
    "# Homework 3 - Immigration, the stock market, and GDP\n",
    "\n",
    "Following tasks were accomplished :\n",
    "* Installed the wbdata package for API access to Worldbank data.\n",
    "* Explored the databases Population estimates and projections, Global Financial Development, and World Development Indicators using search_indicators() function.\n",
    "* Got data on GDP per capita growth (annual %), Net immigration and Stock market return (%, year-on-year) as a dataframe.\n",
    "* Explored the data and noted the issues.\n",
    "* Cleaned and combined the data.\n",
    "* What is the correlation between the GDP and net immigration and stock market returns."
   ]
  },
  {
   "cell_type": "markdown",
   "metadata": {},
   "source": [
    "### Packages Required :\n",
    "Import the package 'wbdata' which has APIs that give access to World Bank Data.\n",
    "\n",
    "For this, Anaconda Navigator didn't have 'wbdata' as a package listed. So, a normal pip install was done from the terminal.\n",
    "\n",
    "The 'wbdata' package gives methods to access data.\n",
    "\n",
    "https://blogs.worldbank.org/opendata/accessing-world-bank-data-apis-python-r-ruby-stata\n",
    "\n",
    "http://wbdata.readthedocs.io/en/latest/\n",
    "\n",
    "pandas package is imported to work with dataframes."
   ]
  },
  {
   "cell_type": "code",
   "execution_count": 6,
   "metadata": {
    "collapsed": true
   },
   "outputs": [],
   "source": [
    "import wbdata\n",
    "import pandas"
   ]
  },
  {
   "cell_type": "markdown",
   "metadata": {},
   "source": [
    "Some warnings while running the code could be ignored because the output still is correct and as needed."
   ]
  },
  {
   "cell_type": "code",
   "execution_count": 140,
   "metadata": {
    "collapsed": true
   },
   "outputs": [],
   "source": [
    "import warnings\n",
    "warnings.filterwarnings('ignore')"
   ]
  },
  {
   "cell_type": "markdown",
   "metadata": {},
   "source": [
    "To make a multi-line output possible."
   ]
  },
  {
   "cell_type": "code",
   "execution_count": 7,
   "metadata": {
    "collapsed": true
   },
   "outputs": [],
   "source": [
    "from IPython.core.interactiveshell import InteractiveShell\n",
    "InteractiveShell.ast_node_interactivity = 'all'"
   ]
  },
  {
   "cell_type": "markdown",
   "metadata": {},
   "source": [
    "The 'get_source()' method returns all the databases that are present in World Bank. "
   ]
  },
  {
   "cell_type": "code",
   "execution_count": 136,
   "metadata": {},
   "outputs": [],
   "source": [
    "#wbdata.get_source()"
   ]
  },
  {
   "cell_type": "code",
   "execution_count": 18,
   "metadata": {},
   "outputs": [
    {
     "name": "stdout",
     "output_type": "stream",
     "text": [
      "40\tPopulation estimates and projections\n"
     ]
    }
   ],
   "source": [
    "wbdata.get_source(40)"
   ]
  },
  {
   "cell_type": "markdown",
   "metadata": {},
   "source": [
    "### GDP per capita growth (annual %) Data :\n",
    "For the data to be accessed, an indicator needs to be specified as a parameter of get_dataframe() function. These indicators could be found using the search_indicators() function. A search string is passed as parameter to the function and it returns a list of all possible values(indicators).\n",
    "\n",
    "Using the indicator acquired here, the data for GDP per capita growth (annual %) can be stored in a dataframe : df_GDP.\n",
    "\n",
    "The get_dataframe() function is used to the data in form of a dataframe by specifying the Indicator along with the column name, country for which to retrieve the data and convert the date field to a datetime object."
   ]
  },
  {
   "cell_type": "code",
   "execution_count": 28,
   "metadata": {},
   "outputs": [
    {
     "name": "stdout",
     "output_type": "stream",
     "text": [
      "NY.GDP.PCAP.KD.ZG\tGDP per capita growth (annual %)\n",
      "NV.AGR.PCAP.KD.ZG\tReal agricultural GDP per capita growth rate (%)\n"
     ]
    }
   ],
   "source": [
    "wbdata.search_indicators(query = \"gdp per capita growth\")"
   ]
  },
  {
   "cell_type": "code",
   "execution_count": 37,
   "metadata": {},
   "outputs": [],
   "source": [
    "df_GDP = wbdata.get_dataframe({\"NY.GDP.PCAP.KD.ZG\":\"GDP per capita growth (annual %)\"}, country=\"USA\", convert_date=True)"
   ]
  },
  {
   "cell_type": "markdown",
   "metadata": {},
   "source": [
    "The describe() function could be used to give an overview of the dataframe and helps in identifying several elements such as the min, max and mean of the dataframe."
   ]
  },
  {
   "cell_type": "code",
   "execution_count": 138,
   "metadata": {},
   "outputs": [
    {
     "data": {
      "text/html": [
       "<div>\n",
       "<style>\n",
       "    .dataframe thead tr:only-child th {\n",
       "        text-align: right;\n",
       "    }\n",
       "\n",
       "    .dataframe thead th {\n",
       "        text-align: left;\n",
       "    }\n",
       "\n",
       "    .dataframe tbody tr th {\n",
       "        vertical-align: top;\n",
       "    }\n",
       "</style>\n",
       "<table border=\"1\" class=\"dataframe\">\n",
       "  <thead>\n",
       "    <tr style=\"text-align: right;\">\n",
       "      <th></th>\n",
       "      <th>GDP per capita growth (annual %)</th>\n",
       "    </tr>\n",
       "  </thead>\n",
       "  <tbody>\n",
       "    <tr>\n",
       "      <th>count</th>\n",
       "      <td>56.000000</td>\n",
       "    </tr>\n",
       "    <tr>\n",
       "      <th>mean</th>\n",
       "      <td>2.041225</td>\n",
       "    </tr>\n",
       "    <tr>\n",
       "      <th>std</th>\n",
       "      <td>2.001837</td>\n",
       "    </tr>\n",
       "    <tr>\n",
       "      <th>min</th>\n",
       "      <td>-3.624124</td>\n",
       "    </tr>\n",
       "    <tr>\n",
       "      <th>25%</th>\n",
       "      <td>0.937537</td>\n",
       "    </tr>\n",
       "    <tr>\n",
       "      <th>50%</th>\n",
       "      <td>2.105537</td>\n",
       "    </tr>\n",
       "    <tr>\n",
       "      <th>75%</th>\n",
       "      <td>3.276345</td>\n",
       "    </tr>\n",
       "    <tr>\n",
       "      <th>max</th>\n",
       "      <td>6.334428</td>\n",
       "    </tr>\n",
       "  </tbody>\n",
       "</table>\n",
       "</div>"
      ],
      "text/plain": [
       "       GDP per capita growth (annual %)\n",
       "count                         56.000000\n",
       "mean                           2.041225\n",
       "std                            2.001837\n",
       "min                           -3.624124\n",
       "25%                            0.937537\n",
       "50%                            2.105537\n",
       "75%                            3.276345\n",
       "max                            6.334428"
      ]
     },
     "execution_count": 138,
     "metadata": {},
     "output_type": "execute_result"
    }
   ],
   "source": [
    "df_GDP.describe()"
   ]
  },
  {
   "cell_type": "markdown",
   "metadata": {},
   "source": [
    "### Stock Market Returns Data :\n",
    "Stock Market Return is a year on year change in percentage(increase or decrease) in the stock market of the US. The search_indicator function is used here to search for the stock market indicator. The get_dataframe() method is used in a similar way as before to return the dataframe consisting of the values for stock market returns. "
   ]
  },
  {
   "cell_type": "code",
   "execution_count": 44,
   "metadata": {},
   "outputs": [
    {
     "name": "stdout",
     "output_type": "stream",
     "text": [
      "GFDD.OM.02\tStock market return (%, year-on-year)\n"
     ]
    }
   ],
   "source": [
    "wbdata.search_indicators(\"Stock Market return\")"
   ]
  },
  {
   "cell_type": "code",
   "execution_count": 48,
   "metadata": {
    "collapsed": true
   },
   "outputs": [],
   "source": [
    "df_Stock_Market = wbdata.get_dataframe({\"GFDD.OM.02\":\"Stock market return\"}, country=\"USA\", convert_date=True)"
   ]
  },
  {
   "cell_type": "markdown",
   "metadata": {},
   "source": [
    "The describe() function could be used to give an overview of the dataframe and helps in identifying several elements such as the min, max and mean of the dataframe."
   ]
  },
  {
   "cell_type": "code",
   "execution_count": 51,
   "metadata": {},
   "outputs": [
    {
     "data": {
      "text/html": [
       "<div>\n",
       "<style>\n",
       "    .dataframe thead tr:only-child th {\n",
       "        text-align: right;\n",
       "    }\n",
       "\n",
       "    .dataframe thead th {\n",
       "        text-align: left;\n",
       "    }\n",
       "\n",
       "    .dataframe tbody tr th {\n",
       "        vertical-align: top;\n",
       "    }\n",
       "</style>\n",
       "<table border=\"1\" class=\"dataframe\">\n",
       "  <thead>\n",
       "    <tr style=\"text-align: right;\">\n",
       "      <th></th>\n",
       "      <th>Stock market return</th>\n",
       "    </tr>\n",
       "  </thead>\n",
       "  <tbody>\n",
       "    <tr>\n",
       "      <th>count</th>\n",
       "      <td>55.000000</td>\n",
       "    </tr>\n",
       "    <tr>\n",
       "      <th>mean</th>\n",
       "      <td>7.623636</td>\n",
       "    </tr>\n",
       "    <tr>\n",
       "      <th>std</th>\n",
       "      <td>13.213378</td>\n",
       "    </tr>\n",
       "    <tr>\n",
       "      <th>min</th>\n",
       "      <td>-22.950000</td>\n",
       "    </tr>\n",
       "    <tr>\n",
       "      <th>25%</th>\n",
       "      <td>-1.080000</td>\n",
       "    </tr>\n",
       "    <tr>\n",
       "      <th>50%</th>\n",
       "      <td>8.550000</td>\n",
       "    </tr>\n",
       "    <tr>\n",
       "      <th>75%</th>\n",
       "      <td>17.575000</td>\n",
       "    </tr>\n",
       "    <tr>\n",
       "      <th>max</th>\n",
       "      <td>34.050000</td>\n",
       "    </tr>\n",
       "  </tbody>\n",
       "</table>\n",
       "</div>"
      ],
      "text/plain": [
       "       Stock market return\n",
       "count            55.000000\n",
       "mean              7.623636\n",
       "std              13.213378\n",
       "min             -22.950000\n",
       "25%              -1.080000\n",
       "50%               8.550000\n",
       "75%              17.575000\n",
       "max              34.050000"
      ]
     },
     "execution_count": 51,
     "metadata": {},
     "output_type": "execute_result"
    }
   ],
   "source": [
    "df_Stock_Market.describe()"
   ]
  },
  {
   "cell_type": "markdown",
   "metadata": {},
   "source": [
    "### Total Population Data :\n",
    "\n",
    "The total poulation of US is to be found. \n",
    "The data on total population of the US is required because to find the percentage of Immigrants from the total population.\n",
    "\n",
    "This gives the chance to calculate the percentage of immigrants in the total population."
   ]
  },
  {
   "cell_type": "code",
   "execution_count": 147,
   "metadata": {},
   "outputs": [
    {
     "name": "stdout",
     "output_type": "stream",
     "text": [
      "SP.POP.TOTL\tPopulation, total\n"
     ]
    }
   ],
   "source": [
    "wbdata.search_indicators(\"Population, Total\")"
   ]
  },
  {
   "cell_type": "code",
   "execution_count": 159,
   "metadata": {},
   "outputs": [],
   "source": [
    "df_get_pop = wbdata.get_dataframe({\"SP.POP.TOTL\":\"Total Population\"}, country=\"USA\", convert_date=True)"
   ]
  },
  {
   "cell_type": "markdown",
   "metadata": {},
   "source": [
    "### Net Migrants Data :\n",
    "\n",
    "The Net Migrants data gives the total number of migrants in a specific period of time. It is not given for all years and is recorded in a duration of once in 5 years. \n",
    "\n",
    "The indicator for the Migration is searched for using the search_indicators() function.\n"
   ]
  },
  {
   "cell_type": "code",
   "execution_count": 151,
   "metadata": {},
   "outputs": [
    {
     "name": "stdout",
     "output_type": "stream",
     "text": [
      "SM.POP.NETM\tNet migration\n"
     ]
    }
   ],
   "source": [
    "wbdata.search_indicators(\"Net Migration\")"
   ]
  },
  {
   "cell_type": "code",
   "execution_count": 56,
   "metadata": {
    "collapsed": true
   },
   "outputs": [],
   "source": [
    "df_get_Migrate = wbdata.get_dataframe({\"SM.POP.NETM\":\"Net Migration\"}, country=\"USA\", convert_date=True)"
   ]
  },
  {
   "cell_type": "markdown",
   "metadata": {},
   "source": [
    "### Visual Representation of the Data :"
   ]
  },
  {
   "cell_type": "code",
   "execution_count": 82,
   "metadata": {},
   "outputs": [],
   "source": [
    "%matplotlib inline"
   ]
  },
  {
   "cell_type": "markdown",
   "metadata": {},
   "source": [
    "### Data Cleaning - \n",
    "\n",
    "#### 1) Reversing the order of Data :\n",
    "The data in dataframes is in the reverse order where the latest data is at the first and older data follows. When plotting the values, we could use the reversed order. The order of data needs to be reversed to display older data first and newer data later down, this might be useful when plotting using matplotlib(). "
   ]
  },
  {
   "cell_type": "code",
   "execution_count": 77,
   "metadata": {
    "collapsed": true
   },
   "outputs": [],
   "source": [
    "df_New_Pop = df_get_pop[::-1]"
   ]
  },
  {
   "cell_type": "code",
   "execution_count": 78,
   "metadata": {},
   "outputs": [
    {
     "data": {
      "text/plain": [
       "<matplotlib.axes._subplots.AxesSubplot at 0x10869e748>"
      ]
     },
     "execution_count": 78,
     "metadata": {},
     "output_type": "execute_result"
    },
    {
     "data": {
      "image/png": "[encoded data removed]",
      "text/plain": [
       "<matplotlib.figure.Figure at 0x1086a13c8>"
      ]
     },
     "metadata": {},
     "output_type": "display_data"
    }
   ],
   "source": [
    "df_New_Pop.plot.line()"
   ]
  },
  {
   "cell_type": "code",
   "execution_count": 79,
   "metadata": {},
   "outputs": [
    {
     "data": {
      "text/plain": [
       "<matplotlib.axes._subplots.AxesSubplot at 0x106c70e80>"
      ]
     },
     "execution_count": 79,
     "metadata": {},
     "output_type": "execute_result"
    },
    {
     "data": {
      "image/png": "[encoded data removed]",
      "text/plain": [
       "<matplotlib.figure.Figure at 0x108e66cf8>"
      ]
     },
     "metadata": {},
     "output_type": "display_data"
    }
   ],
   "source": [
    "df_New_Stock = df_Stock_Market[::-1]\n",
    "df_New_Stock.plot.line()"
   ]
  },
  {
   "cell_type": "markdown",
   "metadata": {},
   "source": [
    "#### 2) Drop The Migration Data has multiple empty records, so inorder to clean the dataset, we could drop all the empty rows.\n",
    "\n",
    "Using the dropna() function on the Dataframe, we drop the unwanted empty rows in the Dataframe.\n"
   ]
  },
  {
   "cell_type": "code",
   "execution_count": 94,
   "metadata": {},
   "outputs": [],
   "source": [
    "df_migration_data=df_get_Migrate.dropna(axis = 0)"
   ]
  },
  {
   "cell_type": "markdown",
   "metadata": {},
   "source": [
    "### Issues with Data :\n",
    "\n",
    "The main issues with the Data were that the data for Migrants population was not complete and was not in a % format so as to compare it with the rest of the values."
   ]
  },
  {
   "cell_type": "markdown",
   "metadata": {},
   "source": [
    "The Immigrant % of the total population could be found out by dividing the Net Migration data"
   ]
  },
  {
   "cell_type": "code",
   "execution_count": 141,
   "metadata": {},
   "outputs": [],
   "source": [
    "df_migration_data['Ratio of Immigration'] = ((df_migration_data['Net Migration']/df_New_Pop['Total Population'])*100)"
   ]
  },
  {
   "cell_type": "markdown",
   "metadata": {},
   "source": [
    "A new Dataframe is created to hold all the neccessary data required, \"Immigrant % of Population\",\"GDP per capita growth (annual %)\" and \"Stock market return\""
   ]
  },
  {
   "cell_type": "code",
   "execution_count": 156,
   "metadata": {},
   "outputs": [],
   "source": [
    "df_final = pandas.DataFrame(data = {\"Immigrant % of Population\":df_migration_data['Ratio of Immigration'],\"GDP per capita growth (annual %)\":df_GDP['GDP per capita growth (annual %)'],\"Stock market return\":df_Stock_Market['Stock market return']})"
   ]
  },
  {
   "cell_type": "markdown",
   "metadata": {},
   "source": [
    "Due to the immigration data which is available for only specific years, that is a term of 5 years, the GDP and Stock market returns data should be matched with it and hence the empty values need to be removed from the final DataFrame as well."
   ]
  },
  {
   "cell_type": "code",
   "execution_count": 158,
   "metadata": {},
   "outputs": [
    {
     "data": {
      "text/html": [
       "<div>\n",
       "<style>\n",
       "    .dataframe thead tr:only-child th {\n",
       "        text-align: right;\n",
       "    }\n",
       "\n",
       "    .dataframe thead th {\n",
       "        text-align: left;\n",
       "    }\n",
       "\n",
       "    .dataframe tbody tr th {\n",
       "        vertical-align: top;\n",
       "    }\n",
       "</style>\n",
       "<table border=\"1\" class=\"dataframe\">\n",
       "  <thead>\n",
       "    <tr style=\"text-align: right;\">\n",
       "      <th></th>\n",
       "      <th>GDP per capita growth (annual %)</th>\n",
       "      <th>Immigrant % of Population</th>\n",
       "      <th>Stock market return</th>\n",
       "    </tr>\n",
       "    <tr>\n",
       "      <th>date</th>\n",
       "      <th></th>\n",
       "      <th></th>\n",
       "      <th></th>\n",
       "    </tr>\n",
       "  </thead>\n",
       "  <tbody>\n",
       "    <tr>\n",
       "      <th>1962-01-01</th>\n",
       "      <td>4.480669</td>\n",
       "      <td>0.980644</td>\n",
       "      <td>-5.96</td>\n",
       "    </tr>\n",
       "    <tr>\n",
       "      <th>1967-01-01</th>\n",
       "      <td>1.389951</td>\n",
       "      <td>0.779754</td>\n",
       "      <td>7.96</td>\n",
       "    </tr>\n",
       "    <tr>\n",
       "      <th>1972-01-01</th>\n",
       "      <td>4.142406</td>\n",
       "      <td>1.400930</td>\n",
       "      <td>11.00</td>\n",
       "    </tr>\n",
       "    <tr>\n",
       "      <th>1977-01-01</th>\n",
       "      <td>3.561747</td>\n",
       "      <td>1.782977</td>\n",
       "      <td>-3.78</td>\n",
       "    </tr>\n",
       "    <tr>\n",
       "      <th>1982-01-01</th>\n",
       "      <td>-2.841549</td>\n",
       "      <td>1.468618</td>\n",
       "      <td>-6.51</td>\n",
       "    </tr>\n",
       "    <tr>\n",
       "      <th>1987-01-01</th>\n",
       "      <td>2.541097</td>\n",
       "      <td>1.415145</td>\n",
       "      <td>21.41</td>\n",
       "    </tr>\n",
       "    <tr>\n",
       "      <th>1992-01-01</th>\n",
       "      <td>2.129114</td>\n",
       "      <td>1.760843</td>\n",
       "      <td>10.52</td>\n",
       "    </tr>\n",
       "    <tr>\n",
       "      <th>1997-01-01</th>\n",
       "      <td>3.236587</td>\n",
       "      <td>3.158574</td>\n",
       "      <td>30.27</td>\n",
       "    </tr>\n",
       "    <tr>\n",
       "      <th>2002-01-01</th>\n",
       "      <td>0.846126</td>\n",
       "      <td>1.810181</td>\n",
       "      <td>-16.77</td>\n",
       "    </tr>\n",
       "    <tr>\n",
       "      <th>2007-01-01</th>\n",
       "      <td>0.815188</td>\n",
       "      <td>1.671038</td>\n",
       "      <td>12.72</td>\n",
       "    </tr>\n",
       "    <tr>\n",
       "      <th>2012-01-01</th>\n",
       "      <td>1.463851</td>\n",
       "      <td>1.433128</td>\n",
       "      <td>8.81</td>\n",
       "    </tr>\n",
       "  </tbody>\n",
       "</table>\n",
       "</div>"
      ],
      "text/plain": [
       "            GDP per capita growth (annual %)  Immigrant % of Population  \\\n",
       "date                                                                      \n",
       "1962-01-01                          4.480669                   0.980644   \n",
       "1967-01-01                          1.389951                   0.779754   \n",
       "1972-01-01                          4.142406                   1.400930   \n",
       "1977-01-01                          3.561747                   1.782977   \n",
       "1982-01-01                         -2.841549                   1.468618   \n",
       "1987-01-01                          2.541097                   1.415145   \n",
       "1992-01-01                          2.129114                   1.760843   \n",
       "1997-01-01                          3.236587                   3.158574   \n",
       "2002-01-01                          0.846126                   1.810181   \n",
       "2007-01-01                          0.815188                   1.671038   \n",
       "2012-01-01                          1.463851                   1.433128   \n",
       "\n",
       "            Stock market return  \n",
       "date                             \n",
       "1962-01-01                -5.96  \n",
       "1967-01-01                 7.96  \n",
       "1972-01-01                11.00  \n",
       "1977-01-01                -3.78  \n",
       "1982-01-01                -6.51  \n",
       "1987-01-01                21.41  \n",
       "1992-01-01                10.52  \n",
       "1997-01-01                30.27  \n",
       "2002-01-01               -16.77  \n",
       "2007-01-01                12.72  \n",
       "2012-01-01                 8.81  "
      ]
     },
     "execution_count": 158,
     "metadata": {},
     "output_type": "execute_result"
    }
   ],
   "source": [
    "df_final.dropna(axis=0)"
   ]
  },
  {
   "cell_type": "markdown",
   "metadata": {},
   "source": [
    "### Correlation between the Data  :\n",
    "\n",
    "The correlation bewteen the data could be found out by using the corr() function available in pandas. This gives an overview of which data is correlated and by how much.\n",
    "\n",
    "The maximum possible correlation is 1.0, which means that the data perfectly correlates with one another. The correlation might be between 0.0 - 1.0.\n",
    "\n",
    "\n",
    "https://pandas.pydata.org/pandas-docs/stable/generated/pandas.DataFrame.corr.html"
   ]
  },
  {
   "cell_type": "code",
   "execution_count": 154,
   "metadata": {},
   "outputs": [
    {
     "data": {
      "text/html": [
       "<div>\n",
       "<style>\n",
       "    .dataframe thead tr:only-child th {\n",
       "        text-align: right;\n",
       "    }\n",
       "\n",
       "    .dataframe thead th {\n",
       "        text-align: left;\n",
       "    }\n",
       "\n",
       "    .dataframe tbody tr th {\n",
       "        vertical-align: top;\n",
       "    }\n",
       "</style>\n",
       "<table border=\"1\" class=\"dataframe\">\n",
       "  <thead>\n",
       "    <tr style=\"text-align: right;\">\n",
       "      <th></th>\n",
       "      <th>GDP per capita growth (annual %)</th>\n",
       "      <th>Ratio of Immigration</th>\n",
       "      <th>Stock market return</th>\n",
       "    </tr>\n",
       "  </thead>\n",
       "  <tbody>\n",
       "    <tr>\n",
       "      <th>GDP per capita growth (annual %)</th>\n",
       "      <td>1.000000</td>\n",
       "      <td>0.085958</td>\n",
       "      <td>0.320460</td>\n",
       "    </tr>\n",
       "    <tr>\n",
       "      <th>Ratio of Immigration</th>\n",
       "      <td>0.085958</td>\n",
       "      <td>1.000000</td>\n",
       "      <td>0.430157</td>\n",
       "    </tr>\n",
       "    <tr>\n",
       "      <th>Stock market return</th>\n",
       "      <td>0.320460</td>\n",
       "      <td>0.430157</td>\n",
       "      <td>1.000000</td>\n",
       "    </tr>\n",
       "  </tbody>\n",
       "</table>\n",
       "</div>"
      ],
      "text/plain": [
       "                                  GDP per capita growth (annual %)  \\\n",
       "GDP per capita growth (annual %)                          1.000000   \n",
       "Ratio of Immigration                                      0.085958   \n",
       "Stock market return                                       0.320460   \n",
       "\n",
       "                                  Ratio of Immigration  Stock market return  \n",
       "GDP per capita growth (annual %)              0.085958             0.320460  \n",
       "Ratio of Immigration                          1.000000             0.430157  \n",
       "Stock market return                           0.430157             1.000000  "
      ]
     },
     "execution_count": 154,
     "metadata": {},
     "output_type": "execute_result"
    }
   ],
   "source": [
    "df_final.corr()"
   ]
  },
  {
   "cell_type": "markdown",
   "metadata": {},
   "source": [
    "\n",
    "Based on the following, the stock market returns is more correlated to the GDP per capita growth (annual %).\n",
    "This might be due to the following \n",
    "#### 1) 1982-01-01 :\n",
    "The GDP per capita is in the negative during this time and the stock market return is also in the Negative. The Immigration is still on the higher side and is in the positive.\n",
    "\n",
    "#### 2) 2002-01-01 : \n",
    "The GDP is on the lower positive side and the stock market is in the negative because of the economic recession during 2001 and 2002. The immigration % is still on the higher side.\n",
    "\n",
    "#### 3) 1997-01-01 :\n",
    "The GDP per capita is on the higher side and the stock market was blooming with a 30.27% year on year increase. The 1990's were one of the best decades for the US market due to the outburst of several technological advancements and also due to the bloom of the IT industry. The immigration was at its peak during this time and may have contibuted to the overall GDP per capita.\n",
    "\n",
    "Higher stock market returns means that the companies have good flow of cash or they could take loans at cheaper rates, this leads to higher investments to expand operations which would mean more jobs that directly impact the GDP.\n",
    "\n",
    "#### Correlation between Immigration and Stock market returns :\n",
    "\n",
    "In the US, the concept of Immigration can be considered based on skill and can be split as immigration of highly skilled labor and of low skilled labor. The immigration of highly skilled labor is believed to lead to higher innovation in any Industry and growth of the same. This ultimatley leads to the betterment of the Industry and has a impact on its performance in the stock market. This might be a reason for higher correlation between the stock market returns and the Immigrant %.\n",
    "\n",
    "#### Other Factors : \n",
    "There are certain discrepancies in the data above for example in the year 1977, although the GDP per capita is positive, the stock market performance was not the same and was in the negative.\n",
    "Moreover, there would be multiple factors affecting the GDP per capita growth of any given country. Only considering two of the factors might not give the whole idea of the bigger picture. These other factors if included would give a clearer picture about how they are correlated with the GDP per capita growth.\n",
    "\n",
    "https://www.investopedia.com/ask/answers/033015/how-does-stock-market-affect-gross-domestic-product-gdp.asp\n",
    "\n",
    "https://www.forbes.com/sites/stuartanderson/2016/10/02/3-reasons-why-immigrants-key-to-economic-growth/#6d01c5807dab\n",
    "\n",
    "\n",
    "\n"
   ]
  }
 ],
 "metadata": {
  "kernelspec": {
   "display_name": "Python 3",
   "language": "python",
   "name": "python3"
  },
  "language_info": {
   "codemirror_mode": {
    "name": "ipython",
    "version": 3
   },
   "file_extension": ".py",
   "mimetype": "text/x-python",
   "name": "python",
   "nbconvert_exporter": "python",
   "pygments_lexer": "ipython3",
   "version": "3.6.2"
  }
 },
 "nbformat": 4,
 "nbformat_minor": 2
}
